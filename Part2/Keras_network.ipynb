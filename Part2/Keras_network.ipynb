{
 "cells": [
  {
   "cell_type": "markdown",
   "metadata": {},
   "source": [
    "# Libraries"
   ]
  },
  {
   "cell_type": "code",
   "execution_count": 1,
   "metadata": {},
   "outputs": [],
   "source": [
    "import cloudpickle as pickle"
   ]
  },
  {
   "cell_type": "code",
   "execution_count": 2,
   "metadata": {},
   "outputs": [],
   "source": [
    "import numpy as np\n",
    "import pandas as pd\n",
    "import sklearn"
   ]
  },
  {
   "cell_type": "code",
   "execution_count": 3,
   "metadata": {},
   "outputs": [
    {
     "name": "stderr",
     "output_type": "stream",
     "text": [
      "Using TensorFlow backend.\n"
     ]
    }
   ],
   "source": [
    "import tensorflow as tf\n",
    "import keras"
   ]
  },
  {
   "cell_type": "code",
   "execution_count": 4,
   "metadata": {},
   "outputs": [],
   "source": [
    "from sklearn.preprocessing import OneHotEncoder"
   ]
  },
  {
   "cell_type": "code",
   "execution_count": 18,
   "metadata": {},
   "outputs": [],
   "source": [
    "import matplotlib.pyplot as plt"
   ]
  },
  {
   "cell_type": "markdown",
   "metadata": {},
   "source": [
    "# Loading the data"
   ]
  },
  {
   "cell_type": "code",
   "execution_count": 5,
   "metadata": {},
   "outputs": [],
   "source": [
    "data_path = r'D:\\temps\\mnist.pkl'"
   ]
  },
  {
   "cell_type": "code",
   "execution_count": 6,
   "metadata": {},
   "outputs": [],
   "source": [
    "with open(data_path, 'rb') as f:\n",
    "    (x_train, y_train), (x_val, y_val), (x_test, y_test) = pickle.load(f, encoding='latin-1')"
   ]
  },
  {
   "cell_type": "code",
   "execution_count": 7,
   "metadata": {
    "scrolled": true
   },
   "outputs": [
    {
     "name": "stdout",
     "output_type": "stream",
     "text": [
      "(50000, 784)\n",
      "(50000,)\n",
      "(10000, 784)\n",
      "(10000,)\n",
      "(10000, 784)\n",
      "(10000,)\n"
     ]
    }
   ],
   "source": [
    "print(x_train.shape)\n",
    "print(y_train.shape)\n",
    "print(x_val.shape)\n",
    "print(y_val.shape)\n",
    "print(x_test.shape)\n",
    "print(y_test.shape)"
   ]
  },
  {
   "cell_type": "code",
   "execution_count": 8,
   "metadata": {},
   "outputs": [],
   "source": [
    "x_train = x_train.reshape((50000, 28, 28, 1))\n",
    "x_val = x_val.reshape((10000, 28, 28, 1))\n",
    "x_test = x_test.reshape((10000, 28, 28, 1))"
   ]
  },
  {
   "cell_type": "code",
   "execution_count": 9,
   "metadata": {},
   "outputs": [],
   "source": [
    "encoder = OneHotEncoder(categories=[range(10)], sparse=False)"
   ]
  },
  {
   "cell_type": "code",
   "execution_count": 10,
   "metadata": {},
   "outputs": [
    {
     "data": {
      "text/plain": [
       "OneHotEncoder(categorical_features=None, categories=[range(0, 10)],\n",
       "       dtype=<class 'numpy.float64'>, handle_unknown='error',\n",
       "       n_values=None, sparse=False)"
      ]
     },
     "execution_count": 10,
     "metadata": {},
     "output_type": "execute_result"
    }
   ],
   "source": [
    "encoder.fit(np.array([0,1,2,3,4,5,6,7,8,9]).reshape(10,1))"
   ]
  },
  {
   "cell_type": "code",
   "execution_count": 11,
   "metadata": {},
   "outputs": [],
   "source": [
    "y_train = encoder.transform(y_train.reshape(len(y_train), 1))\n",
    "y_val = encoder.transform(y_val.reshape(len(y_val), 1))\n",
    "y_test = encoder.transform(y_test.reshape(len(y_test), 1))"
   ]
  },
  {
   "cell_type": "code",
   "execution_count": 12,
   "metadata": {},
   "outputs": [
    {
     "name": "stdout",
     "output_type": "stream",
     "text": [
      "(50000, 10)\n",
      "(10000, 10)\n",
      "(10000, 10)\n"
     ]
    }
   ],
   "source": [
    "print(y_train.shape)\n",
    "print(y_val.shape)\n",
    "print(y_test.shape)"
   ]
  },
  {
   "cell_type": "markdown",
   "metadata": {},
   "source": [
    "# Keras"
   ]
  },
  {
   "cell_type": "code",
   "execution_count": 13,
   "metadata": {},
   "outputs": [],
   "source": [
    "from keras.layers import Dense, Conv2D, MaxPooling2D, Flatten\n",
    "from keras.callbacks import EarlyStopping, ReduceLROnPlateau"
   ]
  },
  {
   "cell_type": "markdown",
   "metadata": {},
   "source": [
    "## First model with 2 conv but 25k parameters"
   ]
  },
  {
   "cell_type": "code",
   "execution_count": 29,
   "metadata": {},
   "outputs": [],
   "source": [
    "class CNN1:\n",
    "    \n",
    "    def __init__(self):\n",
    "        np.random.seed(0)\n",
    "        tf.set_random_seed(0)\n",
    "        self.model = keras.models.Sequential()\n",
    "        self.history = None\n",
    "        \n",
    "        # Layer 1\n",
    "        self.model.add(Conv2D(32, kernel_size=3, strides=1, padding='same', use_bias=True,\n",
    "                              activation='relu', input_shape=(28,28,1), data_format='channels_last'))\n",
    "        self.model.add(MaxPooling2D(2, padding='valid', data_format='channels_last'))\n",
    "        \n",
    "        # Layer 2\n",
    "        self.model.add(Conv2D(32, kernel_size=3, strides=1, padding='same', use_bias=True,\n",
    "                              activation='relu', input_shape=(14,14,32), data_format='channels_last'))\n",
    "        self.model.add(MaxPooling2D(2, padding='valid', data_format='channels_last'))\n",
    "        \n",
    "        # Flattening\n",
    "        self.model.add(Flatten())\n",
    "        \n",
    "        # Layer 3\n",
    "        self.model.add(Dense(10, use_bias=True, activation='softmax'))\n",
    "        \n",
    "        sgd = keras.optimizers.SGD(lr=0.01)\n",
    "        self.model.compile(optimizer=sgd, loss='categorical_crossentropy', metrics=['accuracy'])\n",
    "        \n",
    "        self.model.summary()\n",
    "    \n",
    "    def train(self, x_tr, y_tr, x_v, y_v, ep, bs=32, early=10):\n",
    "        self.history = self.model.fit(x_tr, y_tr, validation_data=(x_v, y_v), epochs=ep, batch_size=bs)"
   ]
  },
  {
   "cell_type": "code",
   "execution_count": 15,
   "metadata": {},
   "outputs": [
    {
     "name": "stdout",
     "output_type": "stream",
     "text": [
      "_________________________________________________________________\n",
      "Layer (type)                 Output Shape              Param #   \n",
      "=================================================================\n",
      "conv2d_1 (Conv2D)            (None, 28, 28, 32)        320       \n",
      "_________________________________________________________________\n",
      "max_pooling2d_1 (MaxPooling2 (None, 14, 14, 32)        0         \n",
      "_________________________________________________________________\n",
      "conv2d_2 (Conv2D)            (None, 14, 14, 32)        9248      \n",
      "_________________________________________________________________\n",
      "max_pooling2d_2 (MaxPooling2 (None, 7, 7, 32)          0         \n",
      "_________________________________________________________________\n",
      "flatten_1 (Flatten)          (None, 1568)              0         \n",
      "_________________________________________________________________\n",
      "dense_1 (Dense)              (None, 10)                15690     \n",
      "=================================================================\n",
      "Total params: 25,258\n",
      "Trainable params: 25,258\n",
      "Non-trainable params: 0\n",
      "_________________________________________________________________\n"
     ]
    }
   ],
   "source": [
    "mod1 = CNN1()"
   ]
  },
  {
   "cell_type": "code",
   "execution_count": 16,
   "metadata": {},
   "outputs": [
    {
     "name": "stdout",
     "output_type": "stream",
     "text": [
      "Train on 50000 samples, validate on 10000 samples\n",
      "Epoch 1/10\n",
      "50000/50000 [==============================] - 41s 827us/step - loss: 0.6073 - acc: 0.8229 - val_loss: 0.2720 - val_acc: 0.9178\n",
      "Epoch 2/10\n",
      "50000/50000 [==============================] - 42s 831us/step - loss: 0.2067 - acc: 0.9387 - val_loss: 0.1466 - val_acc: 0.9587\n",
      "Epoch 3/10\n",
      "50000/50000 [==============================] - 43s 864us/step - loss: 0.1394 - acc: 0.9583 - val_loss: 0.1082 - val_acc: 0.9701\n",
      "Epoch 4/10\n",
      "50000/50000 [==============================] - 43s 868us/step - loss: 0.1084 - acc: 0.9679 - val_loss: 0.0914 - val_acc: 0.9762\n",
      "Epoch 5/10\n",
      "50000/50000 [==============================] - 42s 834us/step - loss: 0.0923 - acc: 0.9729 - val_loss: 0.0827 - val_acc: 0.9763\n",
      "Epoch 6/10\n",
      "50000/50000 [==============================] - 42s 832us/step - loss: 0.0817 - acc: 0.9759 - val_loss: 0.0795 - val_acc: 0.9771\n",
      "Epoch 7/10\n",
      "50000/50000 [==============================] - 41s 827us/step - loss: 0.0733 - acc: 0.9780 - val_loss: 0.0721 - val_acc: 0.9797\n",
      "Epoch 8/10\n",
      "50000/50000 [==============================] - 41s 812us/step - loss: 0.0682 - acc: 0.9797 - val_loss: 0.0688 - val_acc: 0.9803\n",
      "Epoch 9/10\n",
      "50000/50000 [==============================] - 41s 828us/step - loss: 0.0637 - acc: 0.9808 - val_loss: 0.0703 - val_acc: 0.9794\n",
      "Epoch 10/10\n",
      "50000/50000 [==============================] - 41s 829us/step - loss: 0.0599 - acc: 0.9816 - val_loss: 0.0586 - val_acc: 0.9830\n"
     ]
    }
   ],
   "source": [
    "mod1.train(x_train, y_train, x_val, y_val, 10)"
   ]
  },
  {
   "cell_type": "markdown",
   "metadata": {},
   "source": [
    "Plotting the accuracy and the loss function at each epoch:"
   ]
  },
  {
   "cell_type": "code",
   "execution_count": 36,
   "metadata": {},
   "outputs": [
    {
     "data": {
      "image/png": "[encoded data removed]",
      "text/plain": [
       "<Figure size 1008x288 with 2 Axes>"
      ]
     },
     "metadata": {
      "needs_background": "light"
     },
     "output_type": "display_data"
    }
   ],
   "source": [
    "history = mod1.history\n",
    "epochs = history.params['epochs']\n",
    "\n",
    "plt.figure(figsize=(14, 4))\n",
    "\n",
    "plt.subplot(1, 2, 1)\n",
    "plt.plot(history.history['loss'], color='b', label=\"Training loss\")\n",
    "plt.plot(history.history['val_loss'], color='r', label=\"validation loss\")\n",
    "plt.xticks(np.arange(0, epochs+1, 1), [str(x) for x in np.arange(1, epochs+1, 1)])\n",
    "plt.legend(loc='best', shadow=True)\n",
    "plt.title('Evolution of the loss during training')\n",
    "\n",
    "plt.subplot(1, 2, 2)\n",
    "plt.plot(history.history['acc'], color='b', label=\"Training accuracy\")\n",
    "plt.plot(history.history['val_acc'], color='r',label=\"Validation accuracy\")\n",
    "plt.xticks(np.arange(0, epochs+1, 1), [str(x) for x in np.arange(1, epochs+1, 1)])\n",
    "plt.legend(loc='best', shadow=True)\n",
    "plt.title('Evolution of the accuracy during training')\n",
    "\n",
    "plt.tight_layout()\n",
    "plt.show()"
   ]
  },
  {
   "cell_type": "markdown",
   "metadata": {},
   "source": [
    "Checking the performances on the test set:"
   ]
  },
  {
   "cell_type": "code",
   "execution_count": 28,
   "metadata": {},
   "outputs": [
    {
     "name": "stdout",
     "output_type": "stream",
     "text": [
      "10000/10000 [==============================] - 3s 270us/step\n",
      "Test loss: 0.05291663206070662\n",
      "Test accuracy: 0.9831\n"
     ]
    }
   ],
   "source": [
    "l, acc = mod1.model.evaluate(x_test, y_test)\n",
    "print('Test loss:', l)\n",
    "print('Test accuracy:', acc)"
   ]
  },
  {
   "cell_type": "markdown",
   "metadata": {},
   "source": [
    "As we have just seen, we don't even need that many parameters to beat the MLP we built in the first part. In order to follow the guidelines, we still built a convolutional neural net with as many parameters as the one we built in the first part."
   ]
  },
  {
   "cell_type": "markdown",
   "metadata": {},
   "source": [
    "***"
   ]
  },
  {
   "cell_type": "markdown",
   "metadata": {},
   "source": [
    "## Second model with 3 conv and 600k parameters (to compare with MLP)"
   ]
  },
  {
   "cell_type": "code",
   "execution_count": 30,
   "metadata": {},
   "outputs": [],
   "source": [
    "class CNN2:\n",
    "    \n",
    "    def __init__(self):\n",
    "        np.random.seed(0)\n",
    "        tf.set_random_seed(0)\n",
    "        self.model = keras.models.Sequential()\n",
    "        self.history = None\n",
    "        \n",
    "        # Layer 1\n",
    "        self.model.add(Conv2D(64, kernel_size=3, strides=1, padding='same', use_bias=True,\n",
    "                              activation='relu', input_shape=(28,28,1), data_format='channels_last'))\n",
    "        self.model.add(MaxPooling2D(2, padding='valid', data_format='channels_last'))\n",
    "        \n",
    "        # Layer 2\n",
    "        self.model.add(Conv2D(128, kernel_size=3, strides=1, padding='same', use_bias=True,\n",
    "                              activation='relu', input_shape=(14,14,32), data_format='channels_last'))\n",
    "        \n",
    "        # Layer 3\n",
    "        self.model.add(Conv2D(128, kernel_size=3, strides=1, padding='same', use_bias=True,\n",
    "                              activation='relu', input_shape=(14,14,32), data_format='channels_last'))\n",
    "        self.model.add(MaxPooling2D(2, padding='valid', data_format='channels_last'))\n",
    "        \n",
    "        # Flattening\n",
    "        self.model.add(Flatten())\n",
    "        \n",
    "        # Layer 4\n",
    "        self.model.add(Dense(64, use_bias=True, activation='relu'))\n",
    "        \n",
    "        # Layer 5\n",
    "        self.model.add(Dense(10, use_bias=True, activation='softmax'))\n",
    "        \n",
    "        sgd = keras.optimizers.SGD(lr=0.01)\n",
    "        self.model.compile(optimizer=sgd, loss='categorical_crossentropy', metrics=['accuracy'])\n",
    "        \n",
    "        self.model.summary()\n",
    "    \n",
    "    def train(self, x_tr, y_tr, x_v, y_v, ep, bs=32, early=10):\n",
    "        self.history = self.model.fit(x_tr, y_tr, validation_data=(x_v, y_v), epochs=ep, batch_size=bs)"
   ]
  },
  {
   "cell_type": "code",
   "execution_count": 31,
   "metadata": {},
   "outputs": [
    {
     "name": "stdout",
     "output_type": "stream",
     "text": [
      "_________________________________________________________________\n",
      "Layer (type)                 Output Shape              Param #   \n",
      "=================================================================\n",
      "conv2d_3 (Conv2D)            (None, 28, 28, 64)        640       \n",
      "_________________________________________________________________\n",
      "max_pooling2d_3 (MaxPooling2 (None, 14, 14, 64)        0         \n",
      "_________________________________________________________________\n",
      "conv2d_4 (Conv2D)            (None, 14, 14, 128)       73856     \n",
      "_________________________________________________________________\n",
      "conv2d_5 (Conv2D)            (None, 14, 14, 128)       147584    \n",
      "_________________________________________________________________\n",
      "max_pooling2d_4 (MaxPooling2 (None, 7, 7, 128)         0         \n",
      "_________________________________________________________________\n",
      "flatten_2 (Flatten)          (None, 6272)              0         \n",
      "_________________________________________________________________\n",
      "dense_2 (Dense)              (None, 64)                401472    \n",
      "_________________________________________________________________\n",
      "dense_3 (Dense)              (None, 10)                650       \n",
      "=================================================================\n",
      "Total params: 624,202\n",
      "Trainable params: 624,202\n",
      "Non-trainable params: 0\n",
      "_________________________________________________________________\n"
     ]
    }
   ],
   "source": [
    "mod2 = CNN2()"
   ]
  },
  {
   "cell_type": "code",
   "execution_count": 32,
   "metadata": {},
   "outputs": [
    {
     "name": "stdout",
     "output_type": "stream",
     "text": [
      "Train on 50000 samples, validate on 10000 samples\n",
      "Epoch 1/10\n",
      "50000/50000 [==============================] - 276s 6ms/step - loss: 0.6091 - acc: 0.8280 - val_loss: 0.1785 - val_acc: 0.9439\n",
      "Epoch 2/10\n",
      "50000/50000 [==============================] - 282s 6ms/step - loss: 0.1259 - acc: 0.9609 - val_loss: 0.0877 - val_acc: 0.9745\n",
      "Epoch 3/10\n",
      "50000/50000 [==============================] - 294s 6ms/step - loss: 0.0862 - acc: 0.9735 - val_loss: 0.0810 - val_acc: 0.9760\n",
      "Epoch 4/10\n",
      "50000/50000 [==============================] - 294s 6ms/step - loss: 0.0672 - acc: 0.9788 - val_loss: 0.0710 - val_acc: 0.9785\n",
      "Epoch 5/10\n",
      "50000/50000 [==============================] - 291s 6ms/step - loss: 0.0566 - acc: 0.9823 - val_loss: 0.0576 - val_acc: 0.9833\n",
      "Epoch 6/10\n",
      "50000/50000 [==============================] - 293s 6ms/step - loss: 0.0484 - acc: 0.9851 - val_loss: 0.0527 - val_acc: 0.9833\n",
      "Epoch 7/10\n",
      "50000/50000 [==============================] - 343s 7ms/step - loss: 0.0427 - acc: 0.9868 - val_loss: 0.0487 - val_acc: 0.9853\n",
      "Epoch 8/10\n",
      "50000/50000 [==============================] - 370s 7ms/step - loss: 0.0379 - acc: 0.9878 - val_loss: 0.0545 - val_acc: 0.9833\n",
      "Epoch 9/10\n",
      "50000/50000 [==============================] - 372s 7ms/step - loss: 0.0342 - acc: 0.9894 - val_loss: 0.0471 - val_acc: 0.9858\n",
      "Epoch 10/10\n",
      "50000/50000 [==============================] - 273s 5ms/step - loss: 0.0299 - acc: 0.9907 - val_loss: 0.0468 - val_acc: 0.9860\n"
     ]
    }
   ],
   "source": [
    "mod2.train(x_train, y_train, x_val, y_val, 10)"
   ]
  },
  {
   "cell_type": "code",
   "execution_count": 37,
   "metadata": {},
   "outputs": [
    {
     "data": {
      "image/png": "[encoded data removed]",
      "text/plain": [
       "<Figure size 1008x288 with 2 Axes>"
      ]
     },
     "metadata": {
      "needs_background": "light"
     },
     "output_type": "display_data"
    }
   ],
   "source": [
    "history = mod2.history\n",
    "epochs = history.params['epochs']\n",
    "\n",
    "plt.figure(figsize=(14, 4))\n",
    "\n",
    "plt.subplot(1, 2, 1)\n",
    "plt.plot(history.history['loss'], color='b', label=\"Training loss\")\n",
    "plt.plot(history.history['val_loss'], color='r', label=\"validation loss\")\n",
    "plt.xticks(np.arange(0, epochs+1, 1), [str(x) for x in np.arange(1, epochs+1, 1)])\n",
    "plt.legend(loc='best', shadow=True)\n",
    "plt.title('Evolution of the loss during training')\n",
    "\n",
    "plt.subplot(1, 2, 2)\n",
    "plt.plot(history.history['acc'], color='b', label=\"Training accuracy\")\n",
    "plt.plot(history.history['val_acc'], color='r',label=\"Validation accuracy\")\n",
    "plt.xticks(np.arange(0, epochs+1, 1), [str(x) for x in np.arange(1, epochs+1, 1)])\n",
    "plt.legend(loc='best', shadow=True)\n",
    "plt.title('Evolution of the accuracy during training')\n",
    "\n",
    "plt.tight_layout()\n",
    "plt.show()"
   ]
  },
  {
   "cell_type": "code",
   "execution_count": 38,
   "metadata": {
    "scrolled": true
   },
   "outputs": [
    {
     "name": "stdout",
     "output_type": "stream",
     "text": [
      "10000/10000 [==============================] - 3s 271us/step\n",
      "Test loss: 0.05291663206070662\n",
      "Test accuracy: 0.9831\n"
     ]
    }
   ],
   "source": [
    "l, acc = mod1.model.evaluate(x_test, y_test)\n",
    "print('Test loss:', l)\n",
    "print('Test accuracy:', acc)"
   ]
  },
  {
   "cell_type": "markdown",
   "metadata": {},
   "source": [
    "We reached 97% validation accuracy on the second epoch !"
   ]
  }
 ],
 "metadata": {
  "kernelspec": {
   "display_name": "Python 3",
   "language": "python",
   "name": "python3"
  },
  "language_info": {
   "codemirror_mode": {
    "name": "ipython",
    "version": 3
   },
   "file_extension": ".py",
   "mimetype": "text/x-python",
   "name": "python",
   "nbconvert_exporter": "python",
   "pygments_lexer": "ipython3",
   "version": "3.6.8"
  }
 },
 "nbformat": 4,
 "nbformat_minor": 2
}

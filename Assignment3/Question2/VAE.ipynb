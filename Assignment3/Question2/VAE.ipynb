{
 "cells": [
  {
   "cell_type": "markdown",
   "metadata": {},
   "source": [
    "# 2.1 Train a VAE\n",
    "\n",
    "## TODO\n",
    "\n",
    "> Le reparametrization trick est-il necessaire?\n",
    "\n",
    "> Comment faire du Binary Cross Entropy loss sur un output pas dans [0,1] ??? (sigmoid ajoutée..)\n",
    "\n",
    "> Implementer ELBO loss (KL?)\n",
    "\n",
    "> Evaluer le valid set avec ce ELBO\n"
   ]
  },
  {
   "cell_type": "code",
   "execution_count": 1,
   "metadata": {
    "ExecuteTime": {
     "end_time": "2019-04-20T23:20:06.663658Z",
     "start_time": "2019-04-20T23:20:06.304175Z"
    }
   },
   "outputs": [],
   "source": [
    "from torchvision.datasets import utils\n",
    "import torch.utils.data as data_utils\n",
    "import torch\n",
    "import os\n",
    "import numpy as np\n",
    "from torch import nn\n",
    "from torch.nn.modules import upsampling\n",
    "from torch.functional import F\n",
    "from torch.optim import Adam\n",
    "from torch.autograd import Variable"
   ]
  },
  {
   "cell_type": "code",
   "execution_count": 2,
   "metadata": {
    "ExecuteTime": {
     "end_time": "2019-04-20T23:20:18.388217Z",
     "start_time": "2019-04-20T23:20:06.664531Z"
    }
   },
   "outputs": [],
   "source": [
    "def get_data_loader(dataset_location, batch_size):\n",
    "    def lines_to_np_array(lines): return np.array([[int(i) for i in line.split()] for line in lines])\n",
    "    splitdata = []\n",
    "    for splitname in [\"train\", \"valid\", \"test\"]:\n",
    "        filename = \"binarized_mnist_%s.amat\" % splitname\n",
    "        filepath = os.path.join(dataset_location, filename)\n",
    "        with open(filepath) as f: lines = f.readlines()\n",
    "        x = lines_to_np_array(lines).astype('float32')\n",
    "        x = x.reshape(x.shape[0], 1, 28, 28)\n",
    "        dataset = data_utils.TensorDataset(torch.from_numpy(x))\n",
    "        dataset_loader = data_utils.DataLoader(x, batch_size=batch_size, shuffle=splitname == \"train\")\n",
    "        splitdata.append(dataset_loader)\n",
    "    return splitdata\n",
    "\n",
    "train, valid, test = get_data_loader(\"binMNIST/\", 64)"
   ]
  },
  {
   "cell_type": "code",
   "execution_count": 3,
   "metadata": {
    "ExecuteTime": {
     "end_time": "2019-04-20T23:20:18.595663Z",
     "start_time": "2019-04-20T23:20:18.389183Z"
    }
   },
   "outputs": [],
   "source": [
    "import matplotlib.pyplot as plt\n",
    "for x in train: plt.imshow(x[0, 0]); break;"
   ]
  },
  {
   "cell_type": "markdown",
   "metadata": {},
   "source": [
    "## Implementing VAE"
   ]
  },
  {
   "cell_type": "code",
   "execution_count": 12,
   "metadata": {
    "ExecuteTime": {
     "end_time": "2019-04-20T23:25:21.286629Z",
     "start_time": "2019-04-20T23:25:21.272617Z"
    },
    "code_folding": []
   },
   "outputs": [],
   "source": [
    "class VAE(nn.Module):\n",
    "    def __init__(self):\n",
    "        super(VAE, self).__init__()\n",
    "        self.e1 =  nn.Sequential(\n",
    "            nn.Conv2d(1, 32, kernel_size = (3, 3) ), # 26 x 26\n",
    "            nn.ELU(),\n",
    "            \n",
    "            nn.AvgPool2d(kernel_size=2, stride=2), # 13 x 13\n",
    "            nn.Conv2d(32, 64, kernel_size=(3, 3)), # 11 x 11\n",
    "            nn.ELU(),\n",
    "            \n",
    "            nn.AvgPool2d(kernel_size=2, stride=2),  # 5 x 5\n",
    "            nn.Conv2d(64, 256, kernel_size=(5, 5)), # 1 x 1\n",
    "            nn.ELU()\n",
    "        )\n",
    "        self.e2 = nn.Linear(in_features=256, out_features= 200)\n",
    "        \n",
    "        \n",
    "        self.d1 = nn.Linear(in_features=100, out_features=256) # 256 x 1\n",
    "        \n",
    "        self.d2 = nn.Sequential(\n",
    "            nn.ELU(),\n",
    "            \n",
    "            nn.Conv2d(256, 64, kernel_size=(5, 5), padding=(4, 4)), # 1 > 5\n",
    "            nn.ELU(),\n",
    "            \n",
    "            nn.UpsamplingBilinear2d(scale_factor=2), # 5 > 10\n",
    "            nn.Conv2d(64, 32, kernel_size=(3, 3), padding=(2, 2)), # 10 > 12\n",
    "            nn.ELU(),\n",
    "            \n",
    "            nn.UpsamplingBilinear2d(scale_factor=2), # 12 > 24\n",
    "            nn.Conv2d(32, 16, kernel_size=(3, 3), padding=(2, 2)), # 24 > 26\n",
    "            nn.ELU(),\n",
    "            \n",
    "            nn.Conv2d(16, 1, kernel_size=(3, 3), padding=(2, 2)), # 26 x 26 > 28 x 28\n",
    "            \n",
    "            nn.Sigmoid()\n",
    "        )\n",
    "\n",
    "    def forward(self, x):\n",
    "        x = self.e1(x)\n",
    "        x = x.view(-1,256)\n",
    "        x = self.e2(x)\n",
    "        \n",
    "        mean, logvar = torch.split(x, 100, dim = 1) # mean: [minibatch, 100]\n",
    "        x = torch.normal(mean=mean, std=logvar) # minibatch x 100\n",
    "        \n",
    "        x = self.d1(x)\n",
    "        x = x.view(-1,256,1,1)\n",
    "        x = self.d2(x)\n",
    "        \n",
    "        return x"
   ]
  },
  {
   "cell_type": "code",
   "execution_count": 13,
   "metadata": {
    "ExecuteTime": {
     "end_time": "2019-04-20T23:25:23.478869Z",
     "start_time": "2019-04-20T23:25:23.430037Z"
    }
   },
   "outputs": [
    {
     "name": "stderr",
     "output_type": "stream",
     "text": [
      "C:\\Users\\march\\Anaconda3\\lib\\site-packages\\torch\\nn\\modules\\upsampling.py:129: UserWarning: nn.UpsamplingBilinear2d is deprecated. Use nn.functional.interpolate instead.\n",
      "  warnings.warn(\"nn.{} is deprecated. Use nn.functional.interpolate instead.\".format(self.name))\n"
     ]
    },
    {
     "data": {
      "text/plain": [
       "torch.Size([20, 1, 28, 28])"
      ]
     },
     "execution_count": 13,
     "metadata": {},
     "output_type": "execute_result"
    }
   ],
   "source": [
    "model = VAE()\n",
    "model(x[0:20]).size()"
   ]
  },
  {
   "cell_type": "markdown",
   "metadata": {},
   "source": [
    "## Training the model"
   ]
  },
  {
   "cell_type": "code",
   "execution_count": 15,
   "metadata": {
    "ExecuteTime": {
     "end_time": "2019-04-20T23:32:08.378319Z",
     "start_time": "2019-04-20T23:25:53.528400Z"
    }
   },
   "outputs": [
    {
     "name": "stderr",
     "output_type": "stream",
     "text": [
      "C:\\Users\\march\\Anaconda3\\lib\\site-packages\\torch\\nn\\modules\\upsampling.py:129: UserWarning: nn.UpsamplingBilinear2d is deprecated. Use nn.functional.interpolate instead.\n",
      "  warnings.warn(\"nn.{} is deprecated. Use nn.functional.interpolate instead.\".format(self.name))\n"
     ]
    },
    {
     "name": "stdout",
     "output_type": "stream",
     "text": [
      "epoch [1/20], loss:0.2125\n",
      "epoch [2/20], loss:0.1959\n",
      "epoch [3/20], loss:0.1862\n",
      "epoch [4/20], loss:0.2006\n",
      "epoch [5/20], loss:0.1553\n",
      "epoch [6/20], loss:0.1954\n",
      "epoch [7/20], loss:0.1751\n",
      "epoch [8/20], loss:0.1781\n",
      "epoch [9/20], loss:0.1718\n",
      "epoch [10/20], loss:0.1609\n",
      "epoch [11/20], loss:0.1581\n",
      "epoch [12/20], loss:0.2076\n",
      "epoch [13/20], loss:0.1785\n",
      "epoch [14/20], loss:0.1658\n",
      "epoch [15/20], loss:0.1786\n",
      "epoch [16/20], loss:0.1610\n",
      "epoch [17/20], loss:0.1639\n",
      "epoch [18/20], loss:0.1566\n",
      "epoch [19/20], loss:0.1605\n",
      "epoch [20/20], loss:0.1645\n"
     ]
    }
   ],
   "source": [
    "num_epochs = 20\n",
    "learning_rate = 3e-4\n",
    "\n",
    "model = VAE().cuda()\n",
    "optimizer = torch.optim.Adam( model.parameters(), lr=learning_rate)\n",
    "criterion = nn.BCELoss()\n",
    "\n",
    "batch_size = 50\n",
    "\n",
    "\n",
    "for epoch in range(num_epochs):\n",
    "    for data in train:\n",
    "        \n",
    "        data = Variable(data).cuda()\n",
    "        # ===================forward=====================\n",
    "        output = model(data)\n",
    "        loss = criterion(output, data)\n",
    "        # ===================backward====================\n",
    "        optimizer.zero_grad()\n",
    "        loss.backward()\n",
    "        optimizer.step()\n",
    "            \n",
    "    # ===================loss========================\n",
    "    print('epoch [{}/{}], loss:{:.4f}'.format(epoch + 1, num_epochs, loss.item()) )"
   ]
  },
  {
   "cell_type": "code",
   "execution_count": 8,
   "metadata": {
    "ExecuteTime": {
     "end_time": "2019-04-20T23:21:13.866856Z",
     "start_time": "2019-04-20T23:21:13.862862Z"
    }
   },
   "outputs": [
    {
     "data": {
      "text/plain": [
       "torch.Size([16, 1, 28, 28])"
      ]
     },
     "execution_count": 8,
     "metadata": {},
     "output_type": "execute_result"
    }
   ],
   "source": [
    "def ELBO(x, x_out):\n",
    "    criterion = nn.BCELoss()\n",
    "    l1 = criterion(x, x_out)\n",
    "    KL = VAE_B2 * K.mean(1 + z_log_sigma_sq - K.square(z_mean) - K.exp(z_log_sigma_sq), axis=None)\n",
    "    return l1 - KL"
   ]
  },
  {
   "cell_type": "code",
   "execution_count": null,
   "metadata": {
    "ExecuteTime": {
     "end_time": "2019-04-20T23:22:09.934196Z",
     "start_time": "2019-04-20T23:22:09.722842Z"
    }
   },
   "outputs": [],
   "source": []
  },
  {
   "cell_type": "code",
   "execution_count": null,
   "metadata": {},
   "outputs": [],
   "source": []
  }
 ],
 "metadata": {
  "kernelspec": {
   "display_name": "Python 3",
   "language": "python",
   "name": "python3"
  },
  "language_info": {
   "codemirror_mode": {
    "name": "ipython",
    "version": 3
   },
   "file_extension": ".py",
   "mimetype": "text/x-python",
   "name": "python",
   "nbconvert_exporter": "python",
   "pygments_lexer": "ipython3",
   "version": "3.7.0"
  },
  "varInspector": {
   "cols": {
    "lenName": 16,
    "lenType": 16,
    "lenVar": 40
   },
   "kernels_config": {
    "python": {
     "delete_cmd_postfix": "",
     "delete_cmd_prefix": "del ",
     "library": "var_list.py",
     "varRefreshCmd": "print(var_dic_list())"
    },
    "r": {
     "delete_cmd_postfix": ") ",
     "delete_cmd_prefix": "rm(",
     "library": "var_list.r",
     "varRefreshCmd": "cat(var_dic_list()) "
    }
   },
   "types_to_exclude": [
    "module",
    "function",
    "builtin_function_or_method",
    "instance",
    "_Feature"
   ],
   "window_display": false
  }
 },
 "nbformat": 4,
 "nbformat_minor": 2
}

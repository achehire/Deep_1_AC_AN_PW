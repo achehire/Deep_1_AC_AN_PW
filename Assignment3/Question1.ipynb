{
 "cells": [
  {
   "cell_type": "markdown",
   "metadata": {},
   "source": [
    "<div style=\"text-align: center; font-size: 30pt; font-weight: bold; margin: 1em 0em 1em 0em\">IFT 6135 - Homework 3</div>"
   ]
  },
  {
   "cell_type": "code",
   "execution_count": 155,
   "metadata": {},
   "outputs": [],
   "source": [
    "import numpy as np\n",
    "import matplotlib.pyplot as plt\n",
    "import time\n",
    "import samplers\n",
    "import torch\n",
    "import torch.nn as nn\n",
    "import torch.optim as optim\n",
    "import torch.nn.init as init\n",
    "import torch.nn.functional as F"
   ]
  },
  {
   "cell_type": "markdown",
   "metadata": {},
   "source": [
    "# Problem 1 :\n",
    "\n",
    "## Question 1.1:\n",
    "\n",
    "In order to estimate the Jensen Shannon Divergence, we will train a parametrized discriminator $D_\\theta$ trained to maximize the objective function (1). After training, provided that our discriminator is of sufficient capacity, the objective function will approximate the JSD between $p$ and $q$.\n",
    "\n",
    "* **First**, we implement the objective function\n",
    "* **Second**, we create a discriminator $D_\\theta$ in the form of an MLP with 3 hidden layers. As we deduce from (1) that $\\forall x, D_\\theta(x) \\in ]0,1[$, the output non-linearity is a sigmoid\n",
    "* **Third**, we implement a function that, provided 2 samplers of the distributions $p,q$, compute the JSD by training the discriminator (for 30 000 steps) and returning the last objective value computed.\n",
    "\n",
    "The objective function that our neural network should optimize in the case we are using the Jensen Shannon Divergence is: \n",
    "\n",
    "<h4 align=\"center\"> $obj =  \\log 2 + \\dfrac{1}{2} \\mathbb{E}_{x \\sim p} [ \\log D_\\theta (x) ] + \\dfrac{1}{2} \\mathbb{E}_{y \\sim q} [ \\log(1 - D_\\theta(y))] \\quad  \\quad (1)$ </h4>\n",
    "\n",
    "In the case we are using batches of size $m$, this expression is approximated by:\n",
    "\n",
    "<h4 align=\"center\"> $obj \\simeq  \\log 2 + \\dfrac{1}{2 m} \\sum_{i=1}^m  \\log D_\\theta (x_i)  + \\dfrac{1}{2m} \\sum_{i=1}^m \\log(1 - D_\\theta(y_i))$ </h4>"
   ]
  },
  {
   "cell_type": "code",
   "execution_count": 141,
   "metadata": {},
   "outputs": [],
   "source": [
    "class objective_function_JSD(nn.Module):\n",
    "    \n",
    "    def __init__(self):\n",
    "        super(objective_function_JSD, self).__init__()\n",
    "    \n",
    "    def forward(self, D_p, D_q):\n",
    "        \n",
    "        objective = torch.log(torch.tensor([2.])).cuda() + 0.5*torch.mean(torch.log(D_p)).cuda() + 0.5*torch.mean(torch.log(1 - D_q)).cuda()\n",
    "        \n",
    "        return(objective)"
   ]
  },
  {
   "cell_type": "code",
   "execution_count": 142,
   "metadata": {},
   "outputs": [],
   "source": [
    "class Discriminator(nn.Module):\n",
    "    \n",
    "    def __init__(self, input_dim, n_hidden):\n",
    "        super(Discriminator, self).__init__()\n",
    "        \n",
    "        self.hidden1 = nn.Linear(input_dim, n_hidden)\n",
    "        self.hidden2 = nn.Linear(n_hidden, n_hidden)\n",
    "        self.hidden3 = nn.Linear(n_hidden, n_hidden)\n",
    "        self.out   = nn.Linear(n_hidden, 1)\n",
    "\n",
    "    def forward(self, x):\n",
    "        \n",
    "        D = F.relu(self.hidden1(x))\n",
    "        D = F.relu(self.hidden2(D))\n",
    "        D = F.relu(self.hidden3(D))\n",
    "        D = torch.sigmoid(self.out(D))\n",
    "        \n",
    "        return(D)"
   ]
  },
  {
   "cell_type": "code",
   "execution_count": 157,
   "metadata": {},
   "outputs": [],
   "source": [
    "def approx_JSD(iter_sampler_p, iter_sampler_q, print_evolution = True):\n",
    "    \n",
    "    samples_p = torch.FloatTensor(next(iter_sampler_p)).cuda()\n",
    "    samples_q = torch.FloatTensor(next(iter_sampler_q)).cuda()\n",
    "    \n",
    "    n_hidden = 32\n",
    "    input_dim = samples_q.shape[1]\n",
    "    MLP = Discriminator(input_dim, n_hidden).cuda()\n",
    "    obj_func = objective_function_JSD().cuda()\n",
    "    optimizer = optim.SGD(MLP.parameters(), lr=1e-3)\n",
    "    \n",
    "    for epoch in range(30000):\n",
    "        \n",
    "        optimizer.zero_grad()\n",
    "        d_p = MLP(samples_p)\n",
    "        d_q = MLP(samples_q)\n",
    "        loss = -obj_func(d_p, d_q)\n",
    "        loss.backward()\n",
    "        optimizer.step()\n",
    "        \n",
    "        samples_p = torch.FloatTensor(next(iter_sampler_p)).cuda()\n",
    "        samples_q = torch.FloatTensor(next(iter_sampler_q)).cuda()\n",
    "        \n",
    "        obj = float(obj_func(d_p, d_q))\n",
    "        \n",
    "        if epoch % 1000 == 0 and print_evolution:\n",
    "            print('Epoch : %d Objective : %.4f' % (epoch, obj))\n",
    "    \n",
    "    return(obj)"
   ]
  },
  {
   "cell_type": "markdown",
   "metadata": {},
   "source": [
    "## Question 1.2\n",
    "\n",
    "We procede in the same way than **Q.1.1**, except that now the objective to maximize is:\n",
    "\n",
    "<h4 align=\"center\"> $\\mathbf{E}_{x\\sim p}[T_\\theta(x)]-\\mathbf{E}_{y\\sim q}[T_\\theta(y)] - \\lambda \\mathbf{E}_{z\\sim r} [(||\\nabla_z T_\\theta(z)||_2 - 1)^2]$ </h4>\n",
    " \n",
    " with $r$ the distribution over $z=ax+(1-a)y$, where $x\\sim p$, $y\\sim q$ and $a\\sim U[0,1]$. We also have $\\lambda \\geq 10$.\n",
    "\n",
    "* We fix $\\lambda = 10$\n",
    "* We change the output activation function compared to before *(here we finish with a linear one)*"
   ]
  },
  {
   "cell_type": "code",
   "execution_count": 123,
   "metadata": {},
   "outputs": [],
   "source": [
    "class objective_function_WD(nn.Module):\n",
    "    \n",
    "    def __init__(self):\n",
    "        super(objective_function_WD, self).__init__()\n",
    "    \n",
    "    def forward(self, T_p, T_q, grad_T_r, lmbd):\n",
    "        \n",
    "        objective = torch.mean(T_p - T_q - lmbd*(torch.norm(grad_T_r, dim=1) - 1)**2).cuda()\n",
    "        \n",
    "        return(objective)"
   ]
  },
  {
   "cell_type": "code",
   "execution_count": 124,
   "metadata": {},
   "outputs": [],
   "source": [
    "class Critic(nn.Module):\n",
    "    \n",
    "    def __init__(self, input_dim, n_hidden):\n",
    "        super(Critic, self).__init__()\n",
    "        \n",
    "        self.hidden1 = nn.Linear(input_dim, n_hidden)\n",
    "        self.hidden2 = nn.Linear(n_hidden, n_hidden)\n",
    "        self.hidden3 = nn.Linear(n_hidden, n_hidden)\n",
    "        self.out   = nn.Linear(n_hidden, 1)\n",
    "\n",
    "    def forward(self, x):\n",
    "        \n",
    "        T = F.relu(self.hidden1(x))\n",
    "        T = F.relu(self.hidden2(T))\n",
    "        T = F.relu(self.hidden3(T))\n",
    "        T = self.out(T)\n",
    "        \n",
    "        return(T)"
   ]
  },
  {
   "cell_type": "code",
   "execution_count": 182,
   "metadata": {},
   "outputs": [],
   "source": [
    "def approx_WD(iter_sampler_p, iter_sampler_q, print_evolution=True):\n",
    "    \n",
    "    samples_a = torch.FloatTensor(np.random.uniform(0, 1, (512, 1))).cuda()\n",
    "    samples_p = torch.FloatTensor(next(iter_sampler_p)).requires_grad_().cuda()\n",
    "    samples_q = torch.FloatTensor(next(iter_sampler_q)).requires_grad_().cuda()\n",
    "    samples_r = samples_a*samples_p + (1-samples_a)*samples_q\n",
    "    \n",
    "    n_hidden = 32\n",
    "    input_dim = samples_q.shape[1]\n",
    "    MLP = Critic(input_dim, n_hidden).cuda()\n",
    "    obj_func = objective_function_WD().cuda()\n",
    "    optimizer = optim.SGD(MLP.parameters(), lr=1e-3)\n",
    "    \n",
    "    for epoch in range(30000):\n",
    "        \n",
    "        optimizer.zero_grad()\n",
    "        t_p = MLP(samples_p)\n",
    "        t_q = MLP(samples_q)\n",
    "        t_r = MLP(samples_r)\n",
    "        grad_t_r = torch.autograd.grad(t_r, samples_r, grad_outputs=torch.ones(512, input_dim).cuda(), create_graph=True)[0].cuda()\n",
    "        loss = -obj_func(t_p, t_q, grad_t_r, 10)\n",
    "        loss.backward()\n",
    "        optimizer.step()\n",
    "        \n",
    "        samples_a = torch.FloatTensor(np.random.uniform(0, 1, (512, 1))).cuda()\n",
    "        samples_p = torch.FloatTensor(next(iter_sampler_p)).requires_grad_().cuda()\n",
    "        samples_q = torch.FloatTensor(next(iter_sampler_q)).requires_grad_().cuda()\n",
    "        samples_r = samples_a*samples_p + (1-samples_a)*samples_q\n",
    "\n",
    "        obj = float(obj_func(t_p, t_q, grad_t_r, 11))\n",
    "        \n",
    "        if epoch % 1000 == 0 and print_evolution:\n",
    "            print('Epoch : %d Objective : %.4f' % (epoch, obj))\n",
    "    \n",
    "    return(obj)"
   ]
  },
  {
   "cell_type": "markdown",
   "metadata": {},
   "source": [
    "## Question 1.3\n",
    "\n",
    "We use the two functions $\\texttt{approx_JSD}$ and $\\texttt{approx_WD}$ to plot the two graphs for different values of $\\phi$."
   ]
  },
  {
   "cell_type": "code",
   "execution_count": 159,
   "metadata": {},
   "outputs": [],
   "source": [
    "def plot_graphs():\n",
    "    \n",
    "    WDs = []\n",
    "    JSDs = []\n",
    "    iter_sampler_p = iter(samplers.distribution1(0))\n",
    "    phis = np.linspace(-1,1,21)\n",
    "    begin, cpt = time.time(), 0\n",
    "    \n",
    "    for phi in phis:\n",
    "        \n",
    "        iter_sampler_q = iter(samplers.distribution1(phi))\n",
    "        WDs.append(approx_WD(iter_sampler_p, iter_sampler_q, print_evolution=False))\n",
    "        JSDs.append(approx_JSD(iter_sampler_p, iter_sampler_q, print_evolution=False))\n",
    "        \n",
    "        end = time.time()\n",
    "        print('Epoch : %d /21 Time taken so far: %.4f' % (cpt, end-begin))\n",
    "        cpt+=1\n",
    "        \n",
    "    plt.figure(1,figsize=(8,8))\n",
    "    plt.subplot(211)\n",
    "    plt.plot(phis, JSDs)\n",
    "    plt.title('Approximation of the JSD for different values of $\\phi$')\n",
    "    plt.subplot(212)\n",
    "    plt.plot(phis, WDs)\n",
    "    plt.title('Approximation of the WD for different values of $\\phi$')\n",
    "    plt.show()"
   ]
  },
  {
   "cell_type": "code",
   "execution_count": null,
   "metadata": {},
   "outputs": [],
   "source": [
    "plot_graphs()"
   ]
  },
  {
   "cell_type": "markdown",
   "metadata": {},
   "source": [
    "After running it on a google colab, we obtain:\n",
    "![title](Q1_3.png)"
   ]
  },
  {
   "cell_type": "markdown",
   "metadata": {},
   "source": [
    "## Question 1.4"
   ]
  },
  {
   "cell_type": "markdown",
   "metadata": {},
   "source": [
    "This time, our discriminator has the following objective function:\n",
    "\n",
    "<h4 align=\"center\"> $obj =   \\mathbb{E}_{x \\sim f_1} [ \\log D_\\theta (x) ] + \\mathbb{E}_{y \\sim f_0} [ \\log(1 - D_\\theta(y))]$ </h4>\n",
    "\n",
    "We use the same discriminator as in **Q.1.1**"
   ]
  },
  {
   "cell_type": "code",
   "execution_count": 160,
   "metadata": {},
   "outputs": [],
   "source": [
    "class objective_function_JSD(nn.Module):\n",
    "    \n",
    "    def __init__(self):\n",
    "        super(objective_function_JSD, self).__init__()\n",
    "    \n",
    "    def forward(self, D_f1, D_f0):\n",
    "        \n",
    "        objective = torch.mean(torch.log(D_f1)).cuda() + torch.mean(torch.log(1 - D_f0)).cuda()\n",
    "        \n",
    "        return(objective)"
   ]
  },
  {
   "cell_type": "code",
   "execution_count": 163,
   "metadata": {},
   "outputs": [],
   "source": [
    "def train_discriminator(iter_sampler_f1, iter_sampler_f0, print_evolution = True):\n",
    "    \n",
    "    samples_p = torch.FloatTensor(next(iter_sampler_f1)).cuda()\n",
    "    samples_q = torch.FloatTensor(next(iter_sampler_f0)).cuda()\n",
    "    \n",
    "    n_hidden = 32\n",
    "    input_dim = samples_q.shape[1]\n",
    "    MLP = Discriminator(input_dim, n_hidden).cuda()\n",
    "    obj_func = objective_function_JSD().cuda()\n",
    "    optimizer = optim.SGD(MLP.parameters(), lr=1e-3)\n",
    "    \n",
    "    for epoch in range(30000):\n",
    "        \n",
    "        optimizer.zero_grad()\n",
    "        d_p = MLP(samples_p)\n",
    "        d_q = MLP(samples_q)\n",
    "        loss = -obj_func(d_p, d_q)\n",
    "        loss.backward()\n",
    "        optimizer.step()\n",
    "        \n",
    "        samples_p = torch.FloatTensor(next(iter_sampler_f1)).cuda()\n",
    "        samples_q = torch.FloatTensor(next(iter_sampler_f0)).cuda()\n",
    "        \n",
    "        obj = float(obj_func(d_p, d_q))\n",
    "        \n",
    "        if epoch % 1000 == 0 and print_evolution:\n",
    "            print('Epoch : %d Objective : %.4f' % (epoch, obj))\n",
    "    \n",
    "    return(MLP)"
   ]
  },
  {
   "cell_type": "code",
   "execution_count": 191,
   "metadata": {},
   "outputs": [
    {
     "data": {
      "text/plain": [
       "Text(0.5,1,'Estimated vs True')"
      ]
     },
     "execution_count": 191,
     "metadata": {},
     "output_type": "execute_result"
    },
    {
     "data": {
      "image/png": "[encoded data removed]",
      "text/plain": [
       "<Figure size 432x288 with 1 Axes>"
      ]
     },
     "metadata": {},
     "output_type": "display_data"
    },
    {
     "data": {
      "image/png": "[encoded data removed]",
      "text/plain": [
       "<Figure size 576x288 with 2 Axes>"
      ]
     },
     "metadata": {},
     "output_type": "display_data"
    }
   ],
   "source": [
    "# The following is taken from density_estimation.py\n",
    "\n",
    "\n",
    "from __future__ import print_function\n",
    "import numpy as np\n",
    "import torch \n",
    "import matplotlib.pyplot as plt\n",
    "\n",
    "# plot p0 and p1\n",
    "plt.figure()\n",
    "\n",
    "# empirical\n",
    "xx = torch.randn(10000)\n",
    "f = lambda x: torch.tanh(x*2+1) + x*0.75\n",
    "d = lambda x: (1-torch.tanh(x*2+1)**2)*2+0.75\n",
    "plt.hist(f(xx), 100, alpha=0.5, density=1)\n",
    "plt.hist(xx, 100, alpha=0.5, density=1)\n",
    "plt.xlim(-5,5)\n",
    "# exact\n",
    "xx = np.linspace(-5,5,1000)\n",
    "N = lambda x: np.exp(-x**2/2.)/((2*np.pi)**0.5)\n",
    "plt.plot(f(torch.from_numpy(xx)).numpy(), d(torch.from_numpy(xx)).numpy()**(-1)*N(xx))\n",
    "plt.plot(xx, N(xx))\n",
    "\n",
    "\n",
    "############### import the sampler ``samplers.distribution4'' \n",
    "############### train a discriminator on distribution4 and standard gaussian\n",
    "############### estimate the density of distribution4\n",
    "\n",
    "#######--- INSERT YOUR CODE BELOW ---#######\n",
    " \n",
    "discriminator = train_discriminator(iter(samplers.distribution4(512)), iter(samplers.distribution3()), False)\n",
    "# apply the formula f1(x) = f0(x)*D(x)/(1-D(x))\n",
    "estimator = lambda x: N(x)*discriminator(torch.FloatTensor(x).reshape(len(x),1).cuda()).cpu().detach().numpy()[:,0]/(1 - discriminator(torch.FloatTensor(x).reshape(len(x),1).cuda()).cpu().detach().numpy()[:,0])\n",
    "\n",
    "############### plotting things\n",
    "############### (1) plot the output of your trained discriminator \n",
    "############### (2) plot the estimated density contrasted with the true density\n",
    "\n",
    "\n",
    "\n",
    "r = discriminator(torch.FloatTensor(xx).reshape(len(xx),1).cuda()).cpu().detach().numpy() # evaluate xx using your discriminator; replace xx with the output\n",
    "plt.figure(figsize=(8,4))\n",
    "plt.subplot(1,2,1)\n",
    "plt.plot(xx,r)\n",
    "plt.title(r'$D(x)$')\n",
    "\n",
    "estimate = estimator(xx) # estimate the density of distribution4 (on xx) using the discriminator; \n",
    "                                # replace \"np.ones_like(xx)*0.\" with your estimate\n",
    "plt.subplot(1,2,2)\n",
    "plt.plot(xx,estimate)\n",
    "plt.plot(f(torch.from_numpy(xx)).numpy(), d(torch.from_numpy(xx)).numpy()**(-1)*N(xx))\n",
    "plt.legend(['Estimated','True'])\n",
    "plt.title('Estimated vs True')"
   ]
  },
  {
   "cell_type": "code",
   "execution_count": null,
   "metadata": {},
   "outputs": [],
   "source": []
  }
 ],
 "metadata": {
  "kernelspec": {
   "display_name": "Python 3",
   "language": "python",
   "name": "python3"
  },
  "language_info": {
   "codemirror_mode": {
    "name": "ipython",
    "version": 3
   },
   "file_extension": ".py",
   "mimetype": "text/x-python",
   "name": "python",
   "nbconvert_exporter": "python",
   "pygments_lexer": "ipython3",
   "version": "3.6.5"
  }
 },
 "nbformat": 4,
 "nbformat_minor": 2
}

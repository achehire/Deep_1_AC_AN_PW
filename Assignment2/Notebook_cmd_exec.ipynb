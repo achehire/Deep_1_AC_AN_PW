{
  "nbformat": 4,
  "nbformat_minor": 0,
  "metadata": {
    "colab": {
      "name": "Assignment2.ipynb",
      "version": "0.3.2",
      "provenance": [],
      "collapsed_sections": []
    },
    "kernelspec": {
      "name": "python3",
      "display_name": "Python 3"
    },
    "accelerator": "GPU"
  },
  "cells": [
    {
      "metadata": {
        "id": "dh6KD1hYf-fa",
        "colab_type": "text"
      },
      "cell_type": "markdown",
      "source": [
        "# Importing the data to colab:"
      ]
    },
    {
      "metadata": {
        "colab_type": "code",
        "id": "2VmyetWwhIGa",
        "colab": {}
      },
      "cell_type": "code",
      "source": [
        "from google.colab import files"
      ],
      "execution_count": 0,
      "outputs": []
    },
    {
      "metadata": {
        "colab_type": "text",
        "id": "opm-DMs0tgxL"
      },
      "cell_type": "markdown",
      "source": [
        "Upload the two files: model.py and ptb-lm.py\n",
        "\n",
        "\n",
        "Also upload the ZIP file containing the data\n",
        "\n",
        "\n",
        "\n"
      ]
    },
    {
      "metadata": {
        "colab_type": "code",
        "outputId": "1f75f2b0-7ddf-491e-c9a5-879af9ecf2d8",
        "id": "TgJ3e4C3tgwq",
        "colab": {
          "resources": {
            "http://localhost:8080/nbextensions/google.colab/files.js": {
              "data": "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",
              "ok": true,
              "headers": [
                [
                  "content-type",
                  "application/javascript"
                ]
              ],
              "status": 200,
              "status_text": ""
            }
          },
          "base_uri": "https://localhost:8080/",
          "height": 144
        }
      },
      "cell_type": "code",
      "source": [
        "uploaded = files.upload()"
      ],
      "execution_count": 0,
      "outputs": [
        {
          "output_type": "display_data",
          "data": {
            "text/html": [
              "\n",
              "     <input type=\"file\" id=\"files-67166529-a829-4923-b862-8df700f87930\" name=\"files[]\" multiple disabled />\n",
              "     <output id=\"result-67166529-a829-4923-b862-8df700f87930\">\n",
              "      Upload widget is only available when the cell has been executed in the\n",
              "      current browser session. Please rerun this cell to enable.\n",
              "      </output>\n",
              "      <script src=\"/nbextensions/google.colab/files.js\"></script> "
            ],
            "text/plain": [
              "<IPython.core.display.HTML object>"
            ]
          },
          "metadata": {
            "tags": []
          }
        },
        {
          "output_type": "stream",
          "text": [
            "Saving data.zip to data.zip\n",
            "Saving models.py to models.py\n",
            "Saving ptb-lm.py to ptb-lm.py\n"
          ],
          "name": "stdout"
        }
      ]
    },
    {
      "metadata": {
        "colab_type": "code",
        "id": "lZhgfI9-tgwj",
        "colab": {}
      },
      "cell_type": "code",
      "source": [
        "# Extract the zip locally\n",
        "import zipfile\n",
        "import io\n",
        "data = zipfile.ZipFile(io.BytesIO(uploaded['data.zip']), 'r')\n",
        "data.extractall()"
      ],
      "execution_count": 0,
      "outputs": []
    },
    {
      "metadata": {
        "colab_type": "code",
        "outputId": "98727252-ca42-4099-b75a-cf7353a74757",
        "id": "wWUQ_LrMtgwN",
        "colab": {
          "base_uri": "https://localhost:8080/",
          "height": 34
        }
      },
      "cell_type": "code",
      "source": [
        "# Verify that you have imported successfully\n",
        "import os\n",
        "os.listdir('/content')"
      ],
      "execution_count": 0,
      "outputs": [
        {
          "output_type": "execute_result",
          "data": {
            "text/plain": [
              "['.config', 'data.zip', 'data', 'ptb-lm.py', 'models.py', 'sample_data']"
            ]
          },
          "metadata": {
            "tags": []
          },
          "execution_count": 4
        }
      ]
    },
    {
      "metadata": {
        "id": "xGuDKRJsudO3",
        "colab_type": "text"
      },
      "cell_type": "markdown",
      "source": [
        "# Running the RNN code:"
      ]
    },
    {
      "metadata": {
        "id": "VuPxQBKzIITo",
        "colab_type": "text"
      },
      "cell_type": "markdown",
      "source": [
        "**Commands for 4.1:**\n",
        "\n",
        "\n",
        "--model=RNN --optimizer=ADAM --initial_lr=0.0001 --batch_size=20 --seq_len=35 --hidden_size=1500 --num_layers=2 --dp_keep_prob=0.35 --save_best --data=\"/content/data\"\n",
        "\n",
        "\n",
        "--model=GRU --optimizer=SGD_LR_SCHEDULE --initial_lr=10 --batch_size=20 --seq_len=35 --hidden_size=1500 --num_layers=2 --dp_keep_prob=0.35 --save_best --data=\"/content/data\"\n",
        "\n",
        "\n",
        "--model=TRANSFORMER --optimizer=SGD_LR_SCHEDULE --initial_lr=20 --batch_size=128 --seq_len=35 --hidden_size=512 --num_layers=6 --dp_keep_prob=0.9 --save_best --data=\"/content/data\"\n",
        "\n"
      ]
    },
    {
      "metadata": {
        "colab_type": "text",
        "id": "Qlfb6_TlIdML"
      },
      "cell_type": "markdown",
      "source": [
        "**Perplex for 4.1**:\n",
        "\n",
        "\n",
        "- RNN: train:  120  val: 157\n",
        "- GRU: train:   65  val: 104\n",
        "- TRANSFORMER:  train:  67  val: 146\n",
        "\n"
      ]
    },
    {
      "metadata": {
        "colab_type": "text",
        "id": "8-BoqQFSI9El"
      },
      "cell_type": "markdown",
      "source": [
        "**Commands for 4.2:**\n",
        "\n",
        "RNN\n",
        "- --model=RNN --optimizer=SGD --initial_lr=0.0001 --batch_size=20 --seq_len=35 --hidden_size=1500 --num_layers=2 --dp_keep_prob=0.35 --data=\"/content/data\"\n",
        "\n",
        "\n",
        "- --model=RNN --optimizer=SGD_LR_SCHEDULE --initial_lr=1 --batch_size=20 --seq_len=35 --hidden_size=512 --num_layers=2 --dp_keep_prob=0.35 --data=\"/content/data\"\n",
        "\n",
        "GRU\n",
        "- --model=GRU --optimizer=SGD --initial_lr=10 --batch_size=20 --seq_len=35 --hidden_size=1500 --num_layers=2 --dp_keep_prob=0.35 --data=\"/content/data\"\n",
        "\n",
        "- --model=GRU --optimizer=ADAM --initial_lr=0.0001 --batch_size=20 --seq_len=35 --hidden_size=1500 --num_layers=2 --dp_keep_prob=0.35 --data=\"/content/data\"\n",
        "\n",
        "TRANSFO\n",
        "- --model=TRANSFORMER --optimizer=SGD --initial_lr=20 --batch_size=128 --seq_len=35 --hidden_size=512 --num_layers=6 --dp_keep_prob=.9 --data=\"/content/data\"\n",
        "\n",
        "- --model=TRANSFORMER --optimizer=ADAM --initial_lr=0.001 --batch_size=128 --seq_len=35 --hidden_size=512 --num_layers=2 --dp_keep_prob=.9 --data=\"/content/data\""
      ]
    },
    {
      "metadata": {
        "colab_type": "code",
        "outputId": "68fcd546-45cf-4fbf-ff9f-449bc07f3d53",
        "id": "ZU4pn54_HKw9",
        "colab": {
          "base_uri": "https://localhost:8080/",
          "height": 9893
        }
      },
      "cell_type": "code",
      "source": [
        "!python \"/content/ptb-lm.py\" --model=RNN --optimizer=ADAM --initial_lr=0.0001 --batch_size=20 --seq_len=35 --hidden_size=1500 --num_layers=2 --dp_keep_prob=0.35 --save_best --data=\"/content/data\""
      ],
      "execution_count": 0,
      "outputs": [
        {
          "output_type": "stream",
          "text": [
            "\n",
            "########## Setting Up Experiment ######################\n",
            "\n",
            "Putting log in RNN_ADAM_model=RNN_optimizer=ADAM_initial_lr=0.0001_batch_size=20_seq_len=35_hidden_size=1500_num_layers=2_dp_keep_prob=0.35_save_best_data=contentdata_0\n",
            "Using the GPU\n",
            "Loading data from /content/data\n",
            "  vocabulary size: 10000\n",
            "\n",
            "########## Running Main Loop ##########################\n",
            "\n",
            "EPOCH 0 ------------------\n",
            "step: 10\tloss (sum over all examples' seen this epoch):3433.8355684280396\tspeed (wps):2235.9279150395405\n",
            "step: 142\tloss (sum over all examples' seen this epoch):36381.04743003845\tspeed (wps):2387.001272169571\n",
            "step: 274\tloss (sum over all examples' seen this epoch):67495.70872068405\tspeed (wps):2391.777827665676\n",
            "step: 406\tloss (sum over all examples' seen this epoch):97810.86664915085\tspeed (wps):2392.6304615210047\n",
            "step: 538\tloss (sum over all examples' seen this epoch):127903.57621192932\tspeed (wps):2392.849314907842\n",
            "step: 670\tloss (sum over all examples' seen this epoch):157749.31339979172\tspeed (wps):2392.443230282475\n",
            "step: 802\tloss (sum over all examples' seen this epoch):187010.80312013626\tspeed (wps):2392.2974334707505\n",
            "step: 934\tloss (sum over all examples' seen this epoch):216153.8850569725\tspeed (wps):2391.8025672944927\n",
            "step: 1066\tloss (sum over all examples' seen this epoch):245122.7295947075\tspeed (wps):2391.8030774039107\n",
            "step: 1198\tloss (sum over all examples' seen this epoch):273805.92186689377\tspeed (wps):2391.811002574668\n",
            "Saving model parameters to best_params.pt\n",
            "epoch: 0\ttrain ppl: 659.2455696398414\tval ppl: 398.89272809915855\tbest val: 398.89272809915855\ttime (s) spent in epoch: 395.86446142196655\n",
            "\n",
            "EPOCH 1 ------------------\n",
            "step: 10\tloss (sum over all examples' seen this epoch):2423.038785457611\tspeed (wps):2350.714917446929\n",
            "step: 142\tloss (sum over all examples' seen this epoch):30564.46034669876\tspeed (wps):2388.0140970981884\n",
            "step: 274\tloss (sum over all examples' seen this epoch):59050.07144451141\tspeed (wps):2391.0483118859397\n",
            "step: 406\tloss (sum over all examples' seen this epoch):87164.87644195557\tspeed (wps):2390.633799160308\n",
            "step: 538\tloss (sum over all examples' seen this epoch):115321.11977100372\tspeed (wps):2390.7257893780766\n",
            "step: 670\tloss (sum over all examples' seen this epoch):143454.38054800034\tspeed (wps):2390.746731023459\n",
            "step: 802\tloss (sum over all examples' seen this epoch):171082.34347820282\tspeed (wps):2390.5905414739086\n",
            "step: 934\tloss (sum over all examples' seen this epoch):198748.12561511993\tspeed (wps):2391.0628731403117\n",
            "step: 1066\tloss (sum over all examples' seen this epoch):226398.41574192047\tspeed (wps):2391.173557998193\n",
            "step: 1198\tloss (sum over all examples' seen this epoch):253788.37871551514\tspeed (wps):2391.415606301062\n",
            "Saving model parameters to best_params.pt\n",
            "epoch: 1\ttrain ppl: 418.0309392562567\tval ppl: 314.1845149630767\tbest val: 314.1845149630767\ttime (s) spent in epoch: 395.9290828704834\n",
            "\n",
            "EPOCH 2 ------------------\n",
            "step: 10\tloss (sum over all examples' seen this epoch):2335.7703161239624\tspeed (wps):2350.866521574908\n",
            "step: 142\tloss (sum over all examples' seen this epoch):29427.724282741547\tspeed (wps):2388.6780993164907\n",
            "step: 274\tloss (sum over all examples' seen this epoch):56946.630244255066\tspeed (wps):2389.7136918528536\n",
            "step: 406\tloss (sum over all examples' seen this epoch):84135.40565252304\tspeed (wps):2390.422656522694\n",
            "step: 538\tloss (sum over all examples' seen this epoch):111432.88892269135\tspeed (wps):2390.7916615526237\n",
            "step: 670\tloss (sum over all examples' seen this epoch):138736.2436890602\tspeed (wps):2390.96881700698\n",
            "step: 802\tloss (sum over all examples' seen this epoch):165583.23729276657\tspeed (wps):2391.138649236553\n",
            "step: 934\tloss (sum over all examples' seen this epoch):192512.93132066727\tspeed (wps):2391.2431218240586\n",
            "step: 1066\tloss (sum over all examples' seen this epoch):219441.64658784866\tspeed (wps):2391.3874013700756\n",
            "step: 1198\tloss (sum over all examples' seen this epoch):246130.33526659012\tspeed (wps):2391.2865931523766\n",
            "Saving model parameters to best_params.pt\n",
            "epoch: 2\ttrain ppl: 349.5440122873405\tval ppl: 276.55351548222154\tbest val: 276.55351548222154\ttime (s) spent in epoch: 395.97308802604675\n",
            "\n",
            "EPOCH 3 ------------------\n",
            "step: 10\tloss (sum over all examples' seen this epoch):2277.8575253486633\tspeed (wps):2347.536424053828\n",
            "step: 142\tloss (sum over all examples' seen this epoch):28731.407244205475\tspeed (wps):2389.0017088154605\n",
            "step: 274\tloss (sum over all examples' seen this epoch):55668.12863588333\tspeed (wps):2390.297572809941\n",
            "step: 406\tloss (sum over all examples' seen this epoch):82294.25797224045\tspeed (wps):2390.5947920401936\n",
            "step: 538\tloss (sum over all examples' seen this epoch):109026.99919462204\tspeed (wps):2390.948901887943\n",
            "step: 670\tloss (sum over all examples' seen this epoch):135787.6241493225\tspeed (wps):2391.0594378274873\n",
            "step: 802\tloss (sum over all examples' seen this epoch):162094.8063158989\tspeed (wps):2391.3410633374865\n",
            "step: 934\tloss (sum over all examples' seen this epoch):188505.08818864822\tspeed (wps):2390.9834129754563\n",
            "step: 1066\tloss (sum over all examples' seen this epoch):214927.9306459427\tspeed (wps):2391.030187866314\n",
            "step: 1198\tloss (sum over all examples' seen this epoch):241118.08670282364\tspeed (wps):2390.963914121101\n",
            "Saving model parameters to best_params.pt\n",
            "epoch: 3\ttrain ppl: 310.6537797245317\tval ppl: 256.1364788372059\tbest val: 256.1364788372059\ttime (s) spent in epoch: 396.06351685523987\n",
            "\n",
            "EPOCH 4 ------------------\n",
            "step: 10\tloss (sum over all examples' seen this epoch):2245.165205001831\tspeed (wps):2351.903634707905\n",
            "step: 142\tloss (sum over all examples' seen this epoch):28241.201231479645\tspeed (wps):2388.1002268522648\n",
            "step: 274\tloss (sum over all examples' seen this epoch):54762.214810848236\tspeed (wps):2390.3656286318746\n",
            "step: 406\tloss (sum over all examples' seen this epoch):80946.59540176392\tspeed (wps):2391.2060913415967\n",
            "step: 538\tloss (sum over all examples' seen this epoch):107283.25115680695\tspeed (wps):2391.196014473501\n",
            "step: 670\tloss (sum over all examples' seen this epoch):133620.26114225388\tspeed (wps):2391.313098309605\n",
            "step: 802\tloss (sum over all examples' seen this epoch):159526.18252277374\tspeed (wps):2391.1511241992107\n",
            "step: 934\tloss (sum over all examples' seen this epoch):185540.70623874664\tspeed (wps):2391.155991221758\n",
            "step: 1066\tloss (sum over all examples' seen this epoch):211595.52528619766\tspeed (wps):2391.1450457613455\n",
            "step: 1198\tloss (sum over all examples' seen this epoch):237420.65523147583\tspeed (wps):2391.310367732123\n",
            "Saving model parameters to best_params.pt\n",
            "epoch: 4\ttrain ppl: 284.7961598200649\tval ppl: 238.71436785310988\tbest val: 238.71436785310988\ttime (s) spent in epoch: 395.92419481277466\n",
            "\n",
            "EPOCH 5 ------------------\n",
            "step: 10\tloss (sum over all examples' seen this epoch):2226.1003828048706\tspeed (wps):2350.198138828166\n",
            "step: 142\tloss (sum over all examples' seen this epoch):27891.227934360504\tspeed (wps):2391.152677982163\n",
            "step: 274\tloss (sum over all examples' seen this epoch):54055.30473947525\tspeed (wps):2391.9766614959926\n",
            "step: 406\tloss (sum over all examples' seen this epoch):79883.34105968475\tspeed (wps):2392.0176294048656\n",
            "step: 538\tloss (sum over all examples' seen this epoch):105869.55720186234\tspeed (wps):2391.9031071920826\n",
            "step: 670\tloss (sum over all examples' seen this epoch):131865.41386842728\tspeed (wps):2391.793920662256\n",
            "step: 802\tloss (sum over all examples' seen this epoch):157465.93677043915\tspeed (wps):2391.8597891461677\n",
            "step: 934\tloss (sum over all examples' seen this epoch):183179.4722723961\tspeed (wps):2391.8631692315266\n",
            "step: 1066\tloss (sum over all examples' seen this epoch):208902.19586849213\tspeed (wps):2391.6128294613504\n",
            "step: 1198\tloss (sum over all examples' seen this epoch):234409.92335557938\tspeed (wps):2391.6938964207475\n",
            "Saving model parameters to best_params.pt\n",
            "epoch: 5\ttrain ppl: 265.1661081253421\tval ppl: 225.4644610153802\tbest val: 225.4644610153802\ttime (s) spent in epoch: 395.9310393333435\n",
            "\n",
            "EPOCH 6 ------------------\n",
            "step: 10\tloss (sum over all examples' seen this epoch):2194.54256772995\tspeed (wps):2336.584380852333\n",
            "step: 142\tloss (sum over all examples' seen this epoch):27536.611790657043\tspeed (wps):2386.532988706121\n",
            "step: 274\tloss (sum over all examples' seen this epoch):53437.73501396179\tspeed (wps):2388.3861705660174\n",
            "step: 406\tloss (sum over all examples' seen this epoch):78999.68703985214\tspeed (wps):2389.8910126074225\n",
            "step: 538\tloss (sum over all examples' seen this epoch):104689.80159521103\tspeed (wps):2389.9151308094238\n",
            "step: 670\tloss (sum over all examples' seen this epoch):130437.74224042892\tspeed (wps):2390.44521787413\n",
            "step: 802\tloss (sum over all examples' seen this epoch):155760.0981283188\tspeed (wps):2390.6878433308657\n",
            "step: 934\tloss (sum over all examples' seen this epoch):181250.01624584198\tspeed (wps):2391.008832156468\n",
            "step: 1066\tloss (sum over all examples' seen this epoch):206735.8770108223\tspeed (wps):2391.0512514688144\n",
            "step: 1198\tloss (sum over all examples' seen this epoch):231979.94162082672\tspeed (wps):2391.0779328583103\n",
            "Saving model parameters to best_params.pt\n",
            "epoch: 6\ttrain ppl: 250.3701296026571\tval ppl: 214.2126733056878\tbest val: 214.2126733056878\ttime (s) spent in epoch: 396.0095798969269\n",
            "\n",
            "EPOCH 7 ------------------\n",
            "step: 10\tloss (sum over all examples' seen this epoch):2175.405263900757\tspeed (wps):2353.830318114816\n",
            "step: 142\tloss (sum over all examples' seen this epoch):27226.846389770508\tspeed (wps):2388.630168147798\n",
            "step: 274\tloss (sum over all examples' seen this epoch):52869.27941322327\tspeed (wps):2389.1813369425263\n",
            "step: 406\tloss (sum over all examples' seen this epoch):78165.9901714325\tspeed (wps):2390.285185896325\n",
            "step: 538\tloss (sum over all examples' seen this epoch):103604.30455446243\tspeed (wps):2390.2714143333847\n",
            "step: 670\tloss (sum over all examples' seen this epoch):129090.99723100662\tspeed (wps):2390.8024394181302\n",
            "step: 802\tloss (sum over all examples' seen this epoch):154178.05687904358\tspeed (wps):2391.0026650659975\n",
            "step: 934\tloss (sum over all examples' seen this epoch):179428.0315709114\tspeed (wps):2391.2162208852287\n",
            "step: 1066\tloss (sum over all examples' seen this epoch):204680.64457416534\tspeed (wps):2391.279542165905\n",
            "step: 1198\tloss (sum over all examples' seen this epoch):229664.1462278366\tspeed (wps):2391.2957465370264\n",
            "Saving model parameters to best_params.pt\n",
            "epoch: 7\ttrain ppl: 237.14028013408495\tval ppl: 207.5404759563684\tbest val: 207.5404759563684\ttime (s) spent in epoch: 395.98678374290466\n",
            "\n",
            "EPOCH 8 ------------------\n",
            "step: 10\tloss (sum over all examples' seen this epoch):2154.5904183387756\tspeed (wps):2345.1809232824344\n",
            "step: 142\tloss (sum over all examples' seen this epoch):26992.22212791443\tspeed (wps):2388.4499304689716\n",
            "step: 274\tloss (sum over all examples' seen this epoch):52430.839772224426\tspeed (wps):2389.7513983891668\n",
            "step: 406\tloss (sum over all examples' seen this epoch):77488.25590133667\tspeed (wps):2390.865390690878\n",
            "step: 538\tloss (sum over all examples' seen this epoch):102728.62832069397\tspeed (wps):2390.8095803656206\n",
            "step: 670\tloss (sum over all examples' seen this epoch):128007.83505678177\tspeed (wps):2390.8367402064664\n",
            "step: 802\tloss (sum over all examples' seen this epoch):152899.33163404465\tspeed (wps):2391.147663499595\n",
            "step: 934\tloss (sum over all examples' seen this epoch):177949.00242567062\tspeed (wps):2390.995514404108\n",
            "step: 1066\tloss (sum over all examples' seen this epoch):203003.04090738297\tspeed (wps):2390.982306141621\n",
            "step: 1198\tloss (sum over all examples' seen this epoch):227787.57150173187\tspeed (wps):2390.7927164292287\n",
            "Saving model parameters to best_params.pt\n",
            "epoch: 8\ttrain ppl: 226.79784265725564\tval ppl: 201.32006961507537\tbest val: 201.32006961507537\ttime (s) spent in epoch: 396.0558178424835\n",
            "\n",
            "EPOCH 9 ------------------\n",
            "step: 10\tloss (sum over all examples' seen this epoch):2143.857161998749\tspeed (wps):2356.423458598165\n",
            "step: 142\tloss (sum over all examples' seen this epoch):26785.144691467285\tspeed (wps):2388.041819307402\n",
            "step: 274\tloss (sum over all examples' seen this epoch):52042.394750118256\tspeed (wps):2389.072961709772\n",
            "step: 406\tloss (sum over all examples' seen this epoch):76932.35117197037\tspeed (wps):2389.9892306428974\n",
            "step: 538\tloss (sum over all examples' seen this epoch):101954.123711586\tspeed (wps):2390.225484510397\n",
            "step: 670\tloss (sum over all examples' seen this epoch):127023.54772567749\tspeed (wps):2390.1471532355285\n",
            "step: 802\tloss (sum over all examples' seen this epoch):151699.37621593475\tspeed (wps):2390.842416823786\n",
            "step: 934\tloss (sum over all examples' seen this epoch):176569.57425832748\tspeed (wps):2391.0566981538072\n",
            "step: 1066\tloss (sum over all examples' seen this epoch):201431.4726448059\tspeed (wps):2391.6601412003297\n",
            "step: 1198\tloss (sum over all examples' seen this epoch):226026.9888830185\tspeed (wps):2391.922270950789\n",
            "Saving model parameters to best_params.pt\n",
            "epoch: 9\ttrain ppl: 217.4462418026396\tval ppl: 195.65836418124073\tbest val: 195.65836418124073\ttime (s) spent in epoch: 395.91385674476624\n",
            "\n",
            "EPOCH 10 ------------------\n",
            "step: 10\tloss (sum over all examples' seen this epoch):2126.5917134284973\tspeed (wps):2353.4507313620866\n",
            "step: 142\tloss (sum over all examples' seen this epoch):26602.516145706177\tspeed (wps):2387.477260741288\n",
            "step: 274\tloss (sum over all examples' seen this epoch):51676.69592618942\tspeed (wps):2389.417046367223\n",
            "step: 406\tloss (sum over all examples' seen this epoch):76377.21304893494\tspeed (wps):2389.7248948980355\n",
            "step: 538\tloss (sum over all examples' seen this epoch):101210.1065993309\tspeed (wps):2390.2898019204727\n",
            "step: 670\tloss (sum over all examples' seen this epoch):126111.64042234421\tspeed (wps):2390.364469890484\n",
            "step: 802\tloss (sum over all examples' seen this epoch):150602.67317771912\tspeed (wps):2391.0788105129095\n",
            "step: 934\tloss (sum over all examples' seen this epoch):175336.71219587326\tspeed (wps):2391.2440612328596\n",
            "step: 1066\tloss (sum over all examples' seen this epoch):200047.0769572258\tspeed (wps):2391.2051555050903\n",
            "step: 1198\tloss (sum over all examples' seen this epoch):224472.63748645782\tspeed (wps):2391.292666703597\n",
            "epoch: 10\ttrain ppl: 209.65879405042057\tval ppl: 198.38637599741548\tbest val: 195.65836418124073\ttime (s) spent in epoch: 395.8524794578552\n",
            "\n",
            "EPOCH 11 ------------------\n",
            "step: 10\tloss (sum over all examples' seen this epoch):2117.2255444526672\tspeed (wps):2344.5256407054803\n",
            "step: 142\tloss (sum over all examples' seen this epoch):26398.391613960266\tspeed (wps):2388.229317661249\n",
            "step: 274\tloss (sum over all examples' seen this epoch):51320.776348114014\tspeed (wps):2389.2655908095835\n",
            "step: 406\tloss (sum over all examples' seen this epoch):75839.45931911469\tspeed (wps):2390.073889710069\n",
            "step: 538\tloss (sum over all examples' seen this epoch):100523.86587619781\tspeed (wps):2390.9099032291283\n",
            "step: 670\tloss (sum over all examples' seen this epoch):125269.71447706223\tspeed (wps):2390.897176632696\n",
            "step: 802\tloss (sum over all examples' seen this epoch):149601.31421089172\tspeed (wps):2391.0263270819123\n",
            "step: 934\tloss (sum over all examples' seen this epoch):174165.06281614304\tspeed (wps):2391.3382537307366\n",
            "step: 1066\tloss (sum over all examples' seen this epoch):198736.8573331833\tspeed (wps):2391.4873415482566\n",
            "step: 1198\tloss (sum over all examples' seen this epoch):222976.041867733\tspeed (wps):2391.5204577083014\n",
            "Saving model parameters to best_params.pt\n",
            "epoch: 11\ttrain ppl: 202.23868731480226\tval ppl: 188.84007346685286\tbest val: 188.84007346685286\ttime (s) spent in epoch: 396.00338554382324\n",
            "\n",
            "EPOCH 12 ------------------\n",
            "step: 10\tloss (sum over all examples' seen this epoch):2107.788963317871\tspeed (wps):2340.5643042888464\n",
            "step: 142\tloss (sum over all examples' seen this epoch):26256.03368282318\tspeed (wps):2386.5796147876476\n",
            "step: 274\tloss (sum over all examples' seen this epoch):51044.0571641922\tspeed (wps):2390.4817931690213\n",
            "step: 406\tloss (sum over all examples' seen this epoch):75429.10660266876\tspeed (wps):2390.9183131995096\n",
            "step: 538\tloss (sum over all examples' seen this epoch):99959.46969747543\tspeed (wps):2391.5842686300352\n",
            "step: 670\tloss (sum over all examples' seen this epoch):124548.028216362\tspeed (wps):2391.173184978387\n",
            "step: 802\tloss (sum over all examples' seen this epoch):148731.844394207\tspeed (wps):2390.7247963067766\n",
            "step: 934\tloss (sum over all examples' seen this epoch):173169.90661144257\tspeed (wps):2390.8551486940796\n",
            "step: 1066\tloss (sum over all examples' seen this epoch):197593.7429857254\tspeed (wps):2390.5633799695743\n",
            "step: 1198\tloss (sum over all examples' seen this epoch):221708.09867858887\tspeed (wps):2390.3298297527344\n",
            "Saving model parameters to best_params.pt\n",
            "epoch: 12\ttrain ppl: 196.30139169306557\tval ppl: 183.820231446285\tbest val: 183.820231446285\ttime (s) spent in epoch: 396.10281896591187\n",
            "\n",
            "EPOCH 13 ------------------\n",
            "step: 10\tloss (sum over all examples' seen this epoch):2092.388560771942\tspeed (wps):2350.257656860967\n",
            "step: 142\tloss (sum over all examples' seen this epoch):26091.058378219604\tspeed (wps):2389.3868543456956\n",
            "step: 274\tloss (sum over all examples' seen this epoch):50738.11860322952\tspeed (wps):2390.133489083865\n",
            "step: 406\tloss (sum over all examples' seen this epoch):74954.74491119385\tspeed (wps):2390.1198739043607\n",
            "step: 538\tloss (sum over all examples' seen this epoch):99354.85036849976\tspeed (wps):2390.4490199993875\n",
            "step: 670\tloss (sum over all examples' seen this epoch):123802.55945205688\tspeed (wps):2389.987709387692\n",
            "step: 802\tloss (sum over all examples' seen this epoch):147868.1482076645\tspeed (wps):2390.0289737470735\n",
            "step: 934\tloss (sum over all examples' seen this epoch):172163.12482357025\tspeed (wps):2390.0802458917933\n",
            "step: 1066\tloss (sum over all examples' seen this epoch):196463.55066299438\tspeed (wps):2390.4530851796944\n",
            "step: 1198\tloss (sum over all examples' seen this epoch):220440.2597808838\tspeed (wps):2390.549531495279\n",
            "Saving model parameters to best_params.pt\n",
            "epoch: 13\ttrain ppl: 190.4453059574832\tval ppl: 180.9408028498865\tbest val: 180.9408028498865\ttime (s) spent in epoch: 396.1524214744568\n",
            "\n",
            "EPOCH 14 ------------------\n",
            "step: 10\tloss (sum over all examples' seen this epoch):2085.2854442596436\tspeed (wps):2345.3280674547573\n",
            "step: 142\tloss (sum over all examples' seen this epoch):25956.59098148346\tspeed (wps):2385.9050503853796\n",
            "step: 274\tloss (sum over all examples' seen this epoch):50474.71244096756\tspeed (wps):2387.029932802089\n",
            "step: 406\tloss (sum over all examples' seen this epoch):74543.8789153099\tspeed (wps):2387.587514609662\n",
            "step: 538\tloss (sum over all examples' seen this epoch):98813.23289871216\tspeed (wps):2387.977328444371\n",
            "step: 670\tloss (sum over all examples' seen this epoch):123140.68549156189\tspeed (wps):2388.3020755291504\n",
            "step: 802\tloss (sum over all examples' seen this epoch):147062.05644369125\tspeed (wps):2389.220100841737\n",
            "step: 934\tloss (sum over all examples' seen this epoch):171246.79787635803\tspeed (wps):2389.324717499874\n",
            "step: 1066\tloss (sum over all examples' seen this epoch):195412.78419017792\tspeed (wps):2389.164863748673\n",
            "step: 1198\tloss (sum over all examples' seen this epoch):219233.81542921066\tspeed (wps):2388.938373147406\n",
            "Saving model parameters to best_params.pt\n",
            "epoch: 14\ttrain ppl: 185.23776644741855\tval ppl: 177.20100880473134\tbest val: 177.20100880473134\ttime (s) spent in epoch: 396.3788661956787\n",
            "\n",
            "EPOCH 15 ------------------\n",
            "step: 10\tloss (sum over all examples' seen this epoch):2068.5451078414917\tspeed (wps):2349.9903624329163\n",
            "step: 142\tloss (sum over all examples' seen this epoch):25785.487966537476\tspeed (wps):2383.8610119836744\n",
            "step: 274\tloss (sum over all examples' seen this epoch):50163.96470785141\tspeed (wps):2385.798705337823\n",
            "step: 406\tloss (sum over all examples' seen this epoch):74107.61020183563\tspeed (wps):2387.4546676301247\n",
            "step: 538\tloss (sum over all examples' seen this epoch):98262.38003730774\tspeed (wps):2387.8999585300458\n",
            "step: 670\tloss (sum over all examples' seen this epoch):122438.41779947281\tspeed (wps):2387.7767524329897\n",
            "step: 802\tloss (sum over all examples' seen this epoch):146223.77993106842\tspeed (wps):2387.5772128671256\n",
            "step: 934\tloss (sum over all examples' seen this epoch):170287.45183706284\tspeed (wps):2387.652040408186\n",
            "step: 1066\tloss (sum over all examples' seen this epoch):194317.83204317093\tspeed (wps):2387.9588719206067\n",
            "step: 1198\tloss (sum over all examples' seen this epoch):218016.62952661514\tspeed (wps):2387.8738260010473\n",
            "epoch: 15\ttrain ppl: 179.99832742048707\tval ppl: 177.98425779929687\tbest val: 177.20100880473134\ttime (s) spent in epoch: 396.3978214263916\n",
            "\n",
            "EPOCH 16 ------------------\n",
            "step: 10\tloss (sum over all examples' seen this epoch):2067.133777141571\tspeed (wps):2351.0054806811977\n",
            "step: 142\tloss (sum over all examples' seen this epoch):25690.114254951477\tspeed (wps):2387.763037356379\n",
            "step: 274\tloss (sum over all examples' seen this epoch):49991.39059782028\tspeed (wps):2388.5718064271505\n",
            "step: 406\tloss (sum over all examples' seen this epoch):73849.75808858871\tspeed (wps):2388.5672433890563\n",
            "step: 538\tloss (sum over all examples' seen this epoch):97885.1843881607\tspeed (wps):2388.8897901445043\n",
            "step: 670\tloss (sum over all examples' seen this epoch):121972.79445886612\tspeed (wps):2389.1320264006586\n",
            "step: 802\tloss (sum over all examples' seen this epoch):145608.29116106033\tspeed (wps):2388.9694386452034\n",
            "step: 934\tloss (sum over all examples' seen this epoch):169563.0959057808\tspeed (wps):2388.9090685154306\n",
            "step: 1066\tloss (sum over all examples' seen this epoch):193490.33580064774\tspeed (wps):2388.930314527869\n",
            "step: 1198\tloss (sum over all examples' seen this epoch):217060.0098013878\tspeed (wps):2389.329953669872\n",
            "Saving model parameters to best_params.pt\n",
            "epoch: 16\ttrain ppl: 175.80708519107344\tval ppl: 173.8101737457576\tbest val: 173.8101737457576\ttime (s) spent in epoch: 396.3088483810425\n",
            "\n",
            "EPOCH 17 ------------------\n",
            "step: 10\tloss (sum over all examples' seen this epoch):2055.490403175354\tspeed (wps):2344.865068473159\n",
            "step: 142\tloss (sum over all examples' seen this epoch):25537.864909172058\tspeed (wps):2385.997184095962\n",
            "step: 274\tloss (sum over all examples' seen this epoch):49725.86272478104\tspeed (wps):2387.4933977549617\n",
            "step: 406\tloss (sum over all examples' seen this epoch):73434.5304441452\tspeed (wps):2387.815629549882\n",
            "step: 538\tloss (sum over all examples' seen this epoch):97362.63544559479\tspeed (wps):2387.756931796597\n",
            "step: 670\tloss (sum over all examples' seen this epoch):121330.03180027008\tspeed (wps):2387.8021625176407\n",
            "step: 802\tloss (sum over all examples' seen this epoch):144879.65520858765\tspeed (wps):2387.994344953971\n",
            "step: 934\tloss (sum over all examples' seen this epoch):168734.69073057175\tspeed (wps):2388.4149188134747\n",
            "step: 1066\tloss (sum over all examples' seen this epoch):192549.67778921127\tspeed (wps):2388.4566232226202\n",
            "step: 1198\tloss (sum over all examples' seen this epoch):216002.0899271965\tspeed (wps):2388.6119628294814\n",
            "Saving model parameters to best_params.pt\n",
            "epoch: 17\ttrain ppl: 171.57119712335793\tval ppl: 172.6960030042514\tbest val: 172.6960030042514\ttime (s) spent in epoch: 396.4096612930298\n",
            "\n",
            "EPOCH 18 ------------------\n",
            "step: 10\tloss (sum over all examples' seen this epoch):2037.685055732727\tspeed (wps):2346.05605550197\n",
            "step: 142\tloss (sum over all examples' seen this epoch):25419.612987041473\tspeed (wps):2387.2110572954366\n",
            "step: 274\tloss (sum over all examples' seen this epoch):49515.99699020386\tspeed (wps):2388.863294506239\n",
            "step: 406\tloss (sum over all examples' seen this epoch):73141.36595726013\tspeed (wps):2389.234275878686\n",
            "step: 538\tloss (sum over all examples' seen this epoch):96945.81877946854\tspeed (wps):2389.6182915565773\n",
            "step: 670\tloss (sum over all examples' seen this epoch):120794.80102539062\tspeed (wps):2390.379310983887\n",
            "step: 802\tloss (sum over all examples' seen this epoch):144239.79350090027\tspeed (wps):2390.9411891766154\n",
            "step: 934\tloss (sum over all examples' seen this epoch):167989.39563512802\tspeed (wps):2390.637388108872\n",
            "step: 1066\tloss (sum over all examples' seen this epoch):191721.28014087677\tspeed (wps):2390.6296321479936\n",
            "step: 1198\tloss (sum over all examples' seen this epoch):215078.06499004364\tspeed (wps):2390.5384568947807\n",
            "epoch: 18\ttrain ppl: 167.83031803788282\tval ppl: 174.24672062986815\tbest val: 172.6960030042514\ttime (s) spent in epoch: 395.9944849014282\n",
            "\n",
            "EPOCH 19 ------------------\n",
            "step: 10\tloss (sum over all examples' seen this epoch):2036.9864082336426\tspeed (wps):2344.0789510452105\n",
            "step: 142\tloss (sum over all examples' seen this epoch):25339.28966999054\tspeed (wps):2385.5884602496735\n",
            "step: 274\tloss (sum over all examples' seen this epoch):49317.23244428635\tspeed (wps):2388.230169166266\n",
            "step: 406\tloss (sum over all examples' seen this epoch):72816.3409280777\tspeed (wps):2388.929640290102\n",
            "step: 538\tloss (sum over all examples' seen this epoch):96539.77050065994\tspeed (wps):2389.7322094345373\n",
            "step: 670\tloss (sum over all examples' seen this epoch):120277.09336519241\tspeed (wps):2389.649635756617\n",
            "step: 802\tloss (sum over all examples' seen this epoch):143654.09219503403\tspeed (wps):2389.7906704047678\n",
            "step: 934\tloss (sum over all examples' seen this epoch):167307.06194400787\tspeed (wps):2389.4348334856913\n",
            "step: 1066\tloss (sum over all examples' seen this epoch):190952.5803041458\tspeed (wps):2389.2694071045294\n",
            "step: 1198\tloss (sum over all examples' seen this epoch):214211.88740491867\tspeed (wps):2389.417759910158\n",
            "Saving model parameters to best_params.pt\n",
            "epoch: 19\ttrain ppl: 164.47409001160966\tval ppl: 169.38194815748594\tbest val: 169.38194815748594\ttime (s) spent in epoch: 396.242125749588\n",
            "\n",
            "EPOCH 20 ------------------\n",
            "step: 10\tloss (sum over all examples' seen this epoch):2029.600908756256\tspeed (wps):2346.449967309247\n",
            "step: 142\tloss (sum over all examples' seen this epoch):25194.723377227783\tspeed (wps):2385.0154144429353\n",
            "step: 274\tloss (sum over all examples' seen this epoch):49067.120361328125\tspeed (wps):2386.6401421473597\n",
            "step: 406\tloss (sum over all examples' seen this epoch):72501.38830900192\tspeed (wps):2387.5161592180652\n",
            "step: 538\tloss (sum over all examples' seen this epoch):96111.06843233109\tspeed (wps):2388.186996853683\n",
            "step: 670\tloss (sum over all examples' seen this epoch):119785.36345243454\tspeed (wps):2388.691169903668\n",
            "step: 802\tloss (sum over all examples' seen this epoch):143021.17487192154\tspeed (wps):2389.208435337788\n",
            "step: 934\tloss (sum over all examples' seen this epoch):166600.20102262497\tspeed (wps):2389.7006506368566\n",
            "step: 1066\tloss (sum over all examples' seen this epoch):190161.67057991028\tspeed (wps):2390.109349372847\n",
            "step: 1198\tloss (sum over all examples' seen this epoch):213347.71585702896\tspeed (wps):2389.927232191892\n",
            "epoch: 20\ttrain ppl: 161.09552529666541\tval ppl: 170.43069125775597\tbest val: 169.38194815748594\ttime (s) spent in epoch: 396.08843898773193\n",
            "\n",
            "EPOCH 21 ------------------\n",
            "step: 10\tloss (sum over all examples' seen this epoch):2017.6230645179749\tspeed (wps):2346.4750280520825\n",
            "step: 142\tloss (sum over all examples' seen this epoch):25104.229834079742\tspeed (wps):2386.1767805394334\n",
            "step: 274\tloss (sum over all examples' seen this epoch):48902.13077068329\tspeed (wps):2387.993839239364\n",
            "step: 406\tloss (sum over all examples' seen this epoch):72224.01824235916\tspeed (wps):2388.6325404381137\n",
            "step: 538\tloss (sum over all examples' seen this epoch):95743.14664363861\tspeed (wps):2388.517428780704\n",
            "step: 670\tloss (sum over all examples' seen this epoch):119312.0048379898\tspeed (wps):2388.7103289053407\n",
            "step: 802\tloss (sum over all examples' seen this epoch):142452.46290683746\tspeed (wps):2389.2305558256344\n",
            "step: 934\tloss (sum over all examples' seen this epoch):165922.27227210999\tspeed (wps):2389.430725894829\n",
            "step: 1066\tloss (sum over all examples' seen this epoch):189371.64675712585\tspeed (wps):2389.460997396694\n",
            "step: 1198\tloss (sum over all examples' seen this epoch):212439.42550897598\tspeed (wps):2389.5786228528823\n",
            "Saving model parameters to best_params.pt\n",
            "epoch: 21\ttrain ppl: 157.72242431230066\tval ppl: 168.3328593194826\tbest val: 168.3328593194826\ttime (s) spent in epoch: 396.29186606407166\n",
            "\n",
            "EPOCH 22 ------------------\n",
            "step: 10\tloss (sum over all examples' seen this epoch):2015.9847927093506\tspeed (wps):2349.5451777315943\n",
            "step: 142\tloss (sum over all examples' seen this epoch):25029.6887922287\tspeed (wps):2387.046342256372\n",
            "step: 274\tloss (sum over all examples' seen this epoch):48738.55763435364\tspeed (wps):2387.6207637289517\n",
            "step: 406\tloss (sum over all examples' seen this epoch):71978.76383066177\tspeed (wps):2388.141429568708\n",
            "step: 538\tloss (sum over all examples' seen this epoch):95414.28930044174\tspeed (wps):2389.02588372229\n",
            "step: 670\tloss (sum over all examples' seen this epoch):118898.68337869644\tspeed (wps):2388.9767997734666\n",
            "step: 802\tloss (sum over all examples' seen this epoch):141986.05523586273\tspeed (wps):2389.20333141298\n",
            "step: 934\tloss (sum over all examples' seen this epoch):165390.04456996918\tspeed (wps):2389.101463680134\n",
            "step: 1066\tloss (sum over all examples' seen this epoch):188747.18955755234\tspeed (wps):2389.013599752903\n",
            "step: 1198\tloss (sum over all examples' seen this epoch):211716.43753290176\tspeed (wps):2389.1368016825045\n",
            "Saving model parameters to best_params.pt\n",
            "epoch: 22\ttrain ppl: 154.97864177683465\tval ppl: 166.82032468797215\tbest val: 166.82032468797215\ttime (s) spent in epoch: 396.3563277721405\n",
            "\n",
            "EPOCH 23 ------------------\n",
            "step: 10\tloss (sum over all examples' seen this epoch):2002.1914196014404\tspeed (wps):2343.3717428591726\n",
            "step: 142\tloss (sum over all examples' seen this epoch):24902.185056209564\tspeed (wps):2385.9242358474303\n",
            "step: 274\tloss (sum over all examples' seen this epoch):48558.02940368652\tspeed (wps):2388.4168264385526\n",
            "step: 406\tloss (sum over all examples' seen this epoch):71680.74656248093\tspeed (wps):2388.7229337555345\n",
            "step: 538\tloss (sum over all examples' seen this epoch):95023.57219696045\tspeed (wps):2388.9750609447874\n",
            "step: 670\tloss (sum over all examples' seen this epoch):118440.99551677704\tspeed (wps):2389.104467196807\n",
            "step: 802\tloss (sum over all examples' seen this epoch):141480.3223991394\tspeed (wps):2389.2461222507222\n",
            "step: 934\tloss (sum over all examples' seen this epoch):164816.1314177513\tspeed (wps):2389.3070805023603\n",
            "step: 1066\tloss (sum over all examples' seen this epoch):188105.66594600677\tspeed (wps):2389.3478320155014\n",
            "step: 1198\tloss (sum over all examples' seen this epoch):210996.32075071335\tspeed (wps):2389.4558898927053\n",
            "Saving model parameters to best_params.pt\n",
            "epoch: 23\ttrain ppl: 152.25891969043795\tval ppl: 163.73223098716758\tbest val: 163.73223098716758\ttime (s) spent in epoch: 396.18049144744873\n",
            "\n",
            "EPOCH 24 ------------------\n",
            "step: 10\tloss (sum over all examples' seen this epoch):2002.5804138183594\tspeed (wps):2349.3159836590276\n",
            "step: 142\tloss (sum over all examples' seen this epoch):24853.633794784546\tspeed (wps):2386.085690682946\n",
            "step: 274\tloss (sum over all examples' seen this epoch):48420.78534126282\tspeed (wps):2389.2320780285586\n",
            "step: 406\tloss (sum over all examples' seen this epoch):71495.70045471191\tspeed (wps):2389.729329883942\n",
            "step: 538\tloss (sum over all examples' seen this epoch):94752.54384756088\tspeed (wps):2389.7134298647284\n",
            "step: 670\tloss (sum over all examples' seen this epoch):118091.80292844772\tspeed (wps):2389.6343718367684\n",
            "step: 802\tloss (sum over all examples' seen this epoch):141030.90089797974\tspeed (wps):2389.4745185123033\n",
            "step: 934\tloss (sum over all examples' seen this epoch):164295.66241264343\tspeed (wps):2389.843113197989\n",
            "step: 1066\tloss (sum over all examples' seen this epoch):187510.69839000702\tspeed (wps):2389.837871017641\n",
            "step: 1198\tloss (sum over all examples' seen this epoch):210327.92127370834\tspeed (wps):2389.7012305331014\n",
            "Saving model parameters to best_params.pt\n",
            "epoch: 24\ttrain ppl: 149.89180176071062\tval ppl: 162.64088782543163\tbest val: 162.64088782543163\ttime (s) spent in epoch: 396.2074019908905\n",
            "\n",
            "EPOCH 25 ------------------\n",
            "step: 10\tloss (sum over all examples' seen this epoch):1982.378215789795\tspeed (wps):2352.0550496171772\n",
            "step: 142\tloss (sum over all examples' seen this epoch):24734.163019657135\tspeed (wps):2386.882274148898\n",
            "step: 274\tloss (sum over all examples' seen this epoch):48219.17563676834\tspeed (wps):2387.880755338695\n",
            "step: 406\tloss (sum over all examples' seen this epoch):71215.17021894455\tspeed (wps):2388.254620450861\n",
            "step: 538\tloss (sum over all examples' seen this epoch):94418.43316316605\tspeed (wps):2388.6742258792224\n",
            "step: 670\tloss (sum over all examples' seen this epoch):117654.65241909027\tspeed (wps):2389.3405170774026\n",
            "step: 802\tloss (sum over all examples' seen this epoch):140454.96056318283\tspeed (wps):2389.264245805665\n",
            "step: 934\tloss (sum over all examples' seen this epoch):163621.31854057312\tspeed (wps):2389.2167056336702\n",
            "step: 1066\tloss (sum over all examples' seen this epoch):186771.15926742554\tspeed (wps):2389.309294993485\n",
            "step: 1198\tloss (sum over all examples' seen this epoch):209532.01390504837\tspeed (wps):2389.409799963558\n",
            "Saving model parameters to best_params.pt\n",
            "epoch: 25\ttrain ppl: 147.07349686789289\tval ppl: 162.23854018717282\tbest val: 162.23854018717282\ttime (s) spent in epoch: 396.2758095264435\n",
            "\n",
            "EPOCH 26 ------------------\n",
            "step: 10\tloss (sum over all examples' seen this epoch):1993.5556077957153\tspeed (wps):2357.82863443945\n",
            "step: 142\tloss (sum over all examples' seen this epoch):24650.830855369568\tspeed (wps):2386.5988382326614\n",
            "step: 274\tloss (sum over all examples' seen this epoch):48078.27176094055\tspeed (wps):2387.564167503296\n",
            "step: 406\tloss (sum over all examples' seen this epoch):70948.46010923386\tspeed (wps):2388.8599286502954\n",
            "step: 538\tloss (sum over all examples' seen this epoch):94072.01278448105\tspeed (wps):2388.9537868519037\n",
            "step: 670\tloss (sum over all examples' seen this epoch):117233.6807513237\tspeed (wps):2388.7086780042073\n",
            "step: 802\tloss (sum over all examples' seen this epoch):139985.31680345535\tspeed (wps):2389.0338755739863\n",
            "step: 934\tloss (sum over all examples' seen this epoch):163076.8639063835\tspeed (wps):2389.1217362093084\n",
            "step: 1066\tloss (sum over all examples' seen this epoch):186141.53642892838\tspeed (wps):2389.257637251883\n",
            "step: 1198\tloss (sum over all examples' seen this epoch):208806.6973209381\tspeed (wps):2389.2099818109623\n",
            "epoch: 26\ttrain ppl: 144.65249069178043\tval ppl: 163.25942675496069\tbest val: 162.23854018717282\ttime (s) spent in epoch: 396.22930908203125\n",
            "\n",
            "EPOCH 27 ------------------\n",
            "step: 10\tloss (sum over all examples' seen this epoch):1975.7907819747925\tspeed (wps):2342.5098255731386\n",
            "step: 142\tloss (sum over all examples' seen this epoch):24571.431024074554\tspeed (wps):2387.836586987833\n",
            "step: 274\tloss (sum over all examples' seen this epoch):47891.74749851227\tspeed (wps):2388.536984698023\n",
            "step: 406\tloss (sum over all examples' seen this epoch):70696.48221254349\tspeed (wps):2389.601711140877\n",
            "step: 538\tloss (sum over all examples' seen this epoch):93723.61854553223\tspeed (wps):2389.968754798216\n",
            "step: 670\tloss (sum over all examples' seen this epoch):116795.08975505829\tspeed (wps):2390.0187161688777\n",
            "step: 802\tloss (sum over all examples' seen this epoch):139496.16919279099\tspeed (wps):2389.9446651610792\n",
            "step: 934\tloss (sum over all examples' seen this epoch):162516.2610888481\tspeed (wps):2389.6728794994797\n",
            "step: 1066\tloss (sum over all examples' seen this epoch):185514.0878558159\tspeed (wps):2389.570788721795\n",
            "step: 1198\tloss (sum over all examples' seen this epoch):208113.07702302933\tspeed (wps):2389.89116393648\n",
            "Saving model parameters to best_params.pt\n",
            "epoch: 27\ttrain ppl: 142.2081656508799\tval ppl: 161.90097741131655\tbest val: 161.90097741131655\ttime (s) spent in epoch: 396.2074363231659\n",
            "\n",
            "EPOCH 28 ------------------\n",
            "step: 10\tloss (sum over all examples' seen this epoch):1970.2667570114136\tspeed (wps):2344.8766454760325\n",
            "step: 142\tloss (sum over all examples' seen this epoch):24487.913825511932\tspeed (wps):2386.0950339553933\n",
            "step: 274\tloss (sum over all examples' seen this epoch):47757.10513114929\tspeed (wps):2388.3528732028985\n",
            "step: 406\tloss (sum over all examples' seen this epoch):70479.95491027832\tspeed (wps):2388.679285692313\n",
            "step: 538\tloss (sum over all examples' seen this epoch):93442.51818656921\tspeed (wps):2388.7850248455934\n",
            "step: 670\tloss (sum over all examples' seen this epoch):116460.12441158295\tspeed (wps):2388.9895378009282\n",
            "step: 802\tloss (sum over all examples' seen this epoch):139064.55879688263\tspeed (wps):2389.303556826048\n",
            "step: 934\tloss (sum over all examples' seen this epoch):162013.5274028778\tspeed (wps):2389.8285039655825\n",
            "step: 1066\tloss (sum over all examples' seen this epoch):184925.70484638214\tspeed (wps):2389.7150284239924\n",
            "step: 1198\tloss (sum over all examples' seen this epoch):207437.0205783844\tspeed (wps):2389.847940251716\n",
            "Saving model parameters to best_params.pt\n",
            "epoch: 28\ttrain ppl: 139.9999892019274\tval ppl: 159.09050265146803\tbest val: 159.09050265146803\ttime (s) spent in epoch: 396.1579945087433\n",
            "\n",
            "EPOCH 29 ------------------\n",
            "step: 10\tloss (sum over all examples' seen this epoch):1965.8720970153809\tspeed (wps):2348.1901470237203\n",
            "step: 142\tloss (sum over all examples' seen this epoch):24411.103522777557\tspeed (wps):2385.384272806575\n",
            "step: 274\tloss (sum over all examples' seen this epoch):47606.4631652832\tspeed (wps):2387.638436478376\n",
            "step: 406\tloss (sum over all examples' seen this epoch):70249.37374830246\tspeed (wps):2388.2039779581705\n",
            "step: 538\tloss (sum over all examples' seen this epoch):93128.7575674057\tspeed (wps):2389.3595962482677\n",
            "step: 670\tloss (sum over all examples' seen this epoch):116076.31412506104\tspeed (wps):2389.287510814219\n",
            "step: 802\tloss (sum over all examples' seen this epoch):138613.36200475693\tspeed (wps):2389.330156362326\n",
            "step: 934\tloss (sum over all examples' seen this epoch):161500.69750785828\tspeed (wps):2389.5218407773195\n",
            "step: 1066\tloss (sum over all examples' seen this epoch):184338.61996412277\tspeed (wps):2389.4724320794667\n",
            "step: 1198\tloss (sum over all examples' seen this epoch):206773.60422611237\tspeed (wps):2389.3655606237216\n",
            "epoch: 29\ttrain ppl: 137.68840365954432\tval ppl: 161.61126780642633\tbest val: 159.09050265146803\ttime (s) spent in epoch: 396.2066867351532\n",
            "\n",
            "EPOCH 30 ------------------\n",
            "step: 10\tloss (sum over all examples' seen this epoch):1965.537109375\tspeed (wps):2339.6051274335255\n",
            "step: 142\tloss (sum over all examples' seen this epoch):24317.730157375336\tspeed (wps):2385.7295753494536\n",
            "step: 274\tloss (sum over all examples' seen this epoch):47468.588514328\tspeed (wps):2388.527403247756\n",
            "step: 406\tloss (sum over all examples' seen this epoch):70032.83943653107\tspeed (wps):2388.3108404290324\n",
            "step: 538\tloss (sum over all examples' seen this epoch):92846.11974000931\tspeed (wps):2388.6916370312706\n",
            "step: 670\tloss (sum over all examples' seen this epoch):115734.37829494476\tspeed (wps):2388.4363308347183\n",
            "step: 802\tloss (sum over all examples' seen this epoch):138189.18293714523\tspeed (wps):2388.1162398383117\n",
            "step: 934\tloss (sum over all examples' seen this epoch):160992.83630132675\tspeed (wps):2388.2758968908197\n",
            "step: 1066\tloss (sum over all examples' seen this epoch):183761.885535717\tspeed (wps):2388.2180073329714\n",
            "step: 1198\tloss (sum over all examples' seen this epoch):206106.38461589813\tspeed (wps):2388.2080172715937\n",
            "epoch: 30\ttrain ppl: 135.55079628831058\tval ppl: 159.69456587411582\tbest val: 159.09050265146803\ttime (s) spent in epoch: 396.2879641056061\n",
            "\n",
            "EPOCH 31 ------------------\n",
            "step: 10\tloss (sum over all examples' seen this epoch):1951.985764503479\tspeed (wps):2347.854364455838\n",
            "step: 142\tloss (sum over all examples' seen this epoch):24261.372509002686\tspeed (wps):2385.869771634352\n",
            "step: 274\tloss (sum over all examples' seen this epoch):47346.228721141815\tspeed (wps):2387.6123051903596\n",
            "step: 406\tloss (sum over all examples' seen this epoch):69873.62686395645\tspeed (wps):2388.100365624064\n",
            "step: 538\tloss (sum over all examples' seen this epoch):92611.85167789459\tspeed (wps):2388.3304103313394\n",
            "step: 670\tloss (sum over all examples' seen this epoch):115439.12338972092\tspeed (wps):2388.197880049275\n",
            "step: 802\tloss (sum over all examples' seen this epoch):137820.52538394928\tspeed (wps):2388.2282064872315\n",
            "step: 934\tloss (sum over all examples' seen this epoch):160567.2635936737\tspeed (wps):2388.2028153146416\n",
            "step: 1066\tloss (sum over all examples' seen this epoch):183253.3754992485\tspeed (wps):2388.647431155051\n",
            "step: 1198\tloss (sum over all examples' seen this epoch):205546.4427280426\tspeed (wps):2388.72287216159\n",
            "epoch: 31\ttrain ppl: 133.7311028977652\tval ppl: 159.40456595662826\tbest val: 159.09050265146803\ttime (s) spent in epoch: 396.2697114944458\n",
            "\n",
            "EPOCH 32 ------------------\n",
            "step: 10\tloss (sum over all examples' seen this epoch):1956.1807703971863\tspeed (wps):2341.6101718939994\n",
            "step: 142\tloss (sum over all examples' seen this epoch):24212.897951602936\tspeed (wps):2387.3615682987916\n",
            "step: 274\tloss (sum over all examples' seen this epoch):47223.065304756165\tspeed (wps):2389.9381449763428\n",
            "step: 406\tloss (sum over all examples' seen this epoch):69659.5888543129\tspeed (wps):2390.1987237773983\n",
            "step: 538\tloss (sum over all examples' seen this epoch):92316.9465470314\tspeed (wps):2390.8497352301347\n",
            "step: 670\tloss (sum over all examples' seen this epoch):115069.93179559708\tspeed (wps):2390.389340500196\n",
            "step: 802\tloss (sum over all examples' seen this epoch):137385.97591876984\tspeed (wps):2391.4205947916166\n",
            "step: 934\tloss (sum over all examples' seen this epoch):160098.91887903214\tspeed (wps):2392.21851925249\n",
            "step: 1066\tloss (sum over all examples' seen this epoch):182733.24191570282\tspeed (wps):2392.5972177408544\n",
            "step: 1198\tloss (sum over all examples' seen this epoch):204962.42857694626\tspeed (wps):2392.579853996911\n",
            "Saving model parameters to best_params.pt\n",
            "epoch: 32\ttrain ppl: 131.88754657708085\tval ppl: 158.16708439689182\tbest val: 158.16708439689182\ttime (s) spent in epoch: 395.7085952758789\n",
            "\n",
            "EPOCH 33 ------------------\n",
            "step: 10\tloss (sum over all examples' seen this epoch):1941.2461495399475\tspeed (wps):2349.8870864386654\n",
            "step: 142\tloss (sum over all examples' seen this epoch):24089.278082847595\tspeed (wps):2388.8258187789856\n",
            "step: 274\tloss (sum over all examples' seen this epoch):47054.201827049255\tspeed (wps):2390.5598818427848\n",
            "step: 406\tloss (sum over all examples' seen this epoch):69418.48343610764\tspeed (wps):2390.7629057367717\n",
            "step: 538\tloss (sum over all examples' seen this epoch):92027.74652004242\tspeed (wps):2391.1511077180153\n",
            "step: 670\tloss (sum over all examples' seen this epoch):114721.47246837616\tspeed (wps):2391.2396493881765\n",
            "step: 802\tloss (sum over all examples' seen this epoch):137031.81794643402\tspeed (wps):2391.1746581923417\n",
            "step: 934\tloss (sum over all examples' seen this epoch):159667.4431324005\tspeed (wps):2391.6052988335455\n",
            "step: 1066\tloss (sum over all examples' seen this epoch):182248.63170862198\tspeed (wps):2391.5400944176754\n",
            "step: 1198\tloss (sum over all examples' seen this epoch):204416.26832962036\tspeed (wps):2391.5094715906844\n",
            "epoch: 33\ttrain ppl: 130.25852369023124\tval ppl: 158.60494833535654\tbest val: 158.16708439689182\ttime (s) spent in epoch: 395.80558133125305\n",
            "\n",
            "EPOCH 34 ------------------\n",
            "step: 10\tloss (sum over all examples' seen this epoch):1936.9136571884155\tspeed (wps):2344.3021895132424\n",
            "step: 142\tloss (sum over all examples' seen this epoch):24048.123786449432\tspeed (wps):2385.412286366244\n",
            "step: 274\tloss (sum over all examples' seen this epoch):46939.36421871185\tspeed (wps):2386.074264597549\n",
            "step: 406\tloss (sum over all examples' seen this epoch):69256.84066772461\tspeed (wps):2386.7296578403048\n",
            "step: 538\tloss (sum over all examples' seen this epoch):91788.50159168243\tspeed (wps):2386.519184205079\n",
            "step: 670\tloss (sum over all examples' seen this epoch):114400.9647154808\tspeed (wps):2386.4553460691977\n",
            "step: 802\tloss (sum over all examples' seen this epoch):136608.6912727356\tspeed (wps):2386.2865161013806\n",
            "step: 934\tloss (sum over all examples' seen this epoch):159161.26879692078\tspeed (wps):2386.4058876430004\n",
            "step: 1066\tloss (sum over all examples' seen this epoch):181685.28081417084\tspeed (wps):2386.430537554422\n",
            "step: 1198\tloss (sum over all examples' seen this epoch):203819.585313797\tspeed (wps):2386.674111766777\n",
            "epoch: 34\ttrain ppl: 128.41221739068595\tval ppl: 158.3679646574694\tbest val: 158.16708439689182\ttime (s) spent in epoch: 396.59285712242126\n",
            "\n",
            "EPOCH 35 ------------------\n",
            "step: 10\tloss (sum over all examples' seen this epoch):1932.907874584198\tspeed (wps):2346.6987231561534\n",
            "step: 142\tloss (sum over all examples' seen this epoch):23966.61763191223\tspeed (wps):2384.185361892113\n",
            "step: 274\tloss (sum over all examples' seen this epoch):46740.90411901474\tspeed (wps):2386.116115575939\n",
            "step: 406\tloss (sum over all examples' seen this epoch):69012.44343519211\tspeed (wps):2386.7593095599877\n",
            "step: 538\tloss (sum over all examples' seen this epoch):91448.18714380264\tspeed (wps):2386.4685939827214\n",
            "step: 670\tloss (sum over all examples' seen this epoch):114023.71267318726\tspeed (wps):2386.5494210579013\n",
            "step: 802\tloss (sum over all examples' seen this epoch):136171.58827781677\tspeed (wps):2386.731258737466\n",
            "step: 934\tloss (sum over all examples' seen this epoch):158660.69674253464\tspeed (wps):2387.0611657748755\n",
            "step: 1066\tloss (sum over all examples' seen this epoch):181113.02866458893\tspeed (wps):2387.3283469003554\n",
            "step: 1198\tloss (sum over all examples' seen this epoch):203167.10929870605\tspeed (wps):2387.2394998194286\n",
            "Saving model parameters to best_params.pt\n",
            "epoch: 35\ttrain ppl: 126.43768322487593\tval ppl: 157.62185018544577\tbest val: 157.62185018544577\ttime (s) spent in epoch: 396.6882972717285\n",
            "\n",
            "EPOCH 36 ------------------\n",
            "step: 10\tloss (sum over all examples' seen this epoch):1931.9285798072815\tspeed (wps):2337.6566426153613\n",
            "step: 142\tloss (sum over all examples' seen this epoch):23920.95603942871\tspeed (wps):2383.061695786593\n",
            "step: 274\tloss (sum over all examples' seen this epoch):46671.816890239716\tspeed (wps):2384.469867207048\n",
            "step: 406\tloss (sum over all examples' seen this epoch):68867.09937095642\tspeed (wps):2384.6869326667797\n",
            "step: 538\tloss (sum over all examples' seen this epoch):91271.06251239777\tspeed (wps):2385.2066705925968\n",
            "step: 670\tloss (sum over all examples' seen this epoch):113794.96675014496\tspeed (wps):2385.8747957064797\n",
            "step: 802\tloss (sum over all examples' seen this epoch):135876.97741270065\tspeed (wps):2386.359931505442\n",
            "step: 934\tloss (sum over all examples' seen this epoch):158310.08285999298\tspeed (wps):2386.143051218196\n",
            "step: 1066\tloss (sum over all examples' seen this epoch):180718.65171432495\tspeed (wps):2386.149378153253\n",
            "step: 1198\tloss (sum over all examples' seen this epoch):202688.1255555153\tspeed (wps):2386.2891193802207\n",
            "epoch: 36\ttrain ppl: 124.99497619989731\tval ppl: 158.36979574471349\tbest val: 157.62185018544577\ttime (s) spent in epoch: 396.59701895713806\n",
            "\n",
            "EPOCH 37 ------------------\n",
            "step: 10\tloss (sum over all examples' seen this epoch):1923.1251406669617\tspeed (wps):2347.0362220032525\n",
            "step: 142\tloss (sum over all examples' seen this epoch):23851.088802814484\tspeed (wps):2385.945794437954\n",
            "step: 274\tloss (sum over all examples' seen this epoch):46558.653235435486\tspeed (wps):2387.797877262856\n",
            "step: 406\tloss (sum over all examples' seen this epoch):68678.30526351929\tspeed (wps):2388.9049396396563\n",
            "step: 538\tloss (sum over all examples' seen this epoch):91030.65438985825\tspeed (wps):2389.2991274738274\n",
            "step: 670\tloss (sum over all examples' seen this epoch):113465.80117225647\tspeed (wps):2389.0556635855014\n",
            "step: 802\tloss (sum over all examples' seen this epoch):135448.0767917633\tspeed (wps):2389.0156828888294\n",
            "step: 934\tloss (sum over all examples' seen this epoch):157825.73489189148\tspeed (wps):2388.8740856140157\n",
            "step: 1066\tloss (sum over all examples' seen this epoch):180162.87659406662\tspeed (wps):2388.788227846677\n",
            "step: 1198\tloss (sum over all examples' seen this epoch):202074.2497897148\tspeed (wps):2388.7442827321643\n",
            "epoch: 37\ttrain ppl: 123.1809685240059\tval ppl: 158.21473830282463\tbest val: 157.62185018544577\ttime (s) spent in epoch: 396.29632925987244\n",
            "\n",
            "EPOCH 38 ------------------\n",
            "step: 10\tloss (sum over all examples' seen this epoch):1910.0284957885742\tspeed (wps):2351.341480479568\n",
            "step: 142\tloss (sum over all examples' seen this epoch):23771.941330432892\tspeed (wps):2387.4705404440515\n",
            "step: 274\tloss (sum over all examples' seen this epoch):46445.34450054169\tspeed (wps):2387.5175496486086\n",
            "step: 406\tloss (sum over all examples' seen this epoch):68487.29032754898\tspeed (wps):2387.605461462438\n",
            "step: 538\tloss (sum over all examples' seen this epoch):90765.62021970749\tspeed (wps):2387.8743510286954\n",
            "step: 670\tloss (sum over all examples' seen this epoch):113163.02570104599\tspeed (wps):2388.291467087713\n",
            "step: 802\tloss (sum over all examples' seen this epoch):135132.5670003891\tspeed (wps):2388.369166727819\n",
            "step: 934\tloss (sum over all examples' seen this epoch):157422.81201839447\tspeed (wps):2388.4519954450784\n",
            "step: 1066\tloss (sum over all examples' seen this epoch):179710.37806987762\tspeed (wps):2388.7614992233007\n",
            "step: 1198\tloss (sum over all examples' seen this epoch):201561.54428005219\tspeed (wps):2388.7857109824427\n",
            "epoch: 38\ttrain ppl: 121.75646397497967\tval ppl: 158.10167292150683\tbest val: 157.62185018544577\ttime (s) spent in epoch: 396.2861359119415\n",
            "\n",
            "EPOCH 39 ------------------\n",
            "step: 10\tloss (sum over all examples' seen this epoch):1913.320243358612\tspeed (wps):2346.6262562762495\n",
            "step: 142\tloss (sum over all examples' seen this epoch):23751.348469257355\tspeed (wps):2384.6960127622324\n",
            "step: 274\tloss (sum over all examples' seen this epoch):46361.17127895355\tspeed (wps):2387.706828176832\n",
            "step: 406\tloss (sum over all examples' seen this epoch):68364.93046760559\tspeed (wps):2388.9443978830172\n",
            "step: 538\tloss (sum over all examples' seen this epoch):90607.14750051498\tspeed (wps):2389.580786808351\n",
            "step: 670\tloss (sum over all examples' seen this epoch):112930.99392175674\tspeed (wps):2389.970266614716\n",
            "step: 802\tloss (sum over all examples' seen this epoch):134858.94216299057\tspeed (wps):2390.0164038846297\n",
            "step: 934\tloss (sum over all examples' seen this epoch):157132.12530851364\tspeed (wps):2389.6000535376156\n",
            "step: 1066\tloss (sum over all examples' seen this epoch):179372.09045410156\tspeed (wps):2388.9004038769585\n",
            "step: 1198\tloss (sum over all examples' seen this epoch):201182.38828897476\tspeed (wps):2388.624810526092\n",
            "Saving model parameters to best_params.pt\n",
            "epoch: 39\ttrain ppl: 120.62463366556074\tval ppl: 156.3533450812893\tbest val: 156.3533450812893\ttime (s) spent in epoch: 396.48731541633606\n",
            "\n",
            "DONE\n",
            "\n",
            "Saving learning curves to RNN_ADAM_model=RNN_optimizer=ADAM_initial_lr=0.0001_batch_size=20_seq_len=35_hidden_size=1500_num_layers=2_dp_keep_prob=0.35_save_best_data=contentdata_0/learning_curves.npy\n"
          ],
          "name": "stdout"
        }
      ]
    },
    {
      "metadata": {
        "id": "OIhZXx2SKWU0",
        "colab_type": "text"
      },
      "cell_type": "markdown",
      "source": [
        "Saving the files:"
      ]
    },
    {
      "metadata": {
        "id": "Rz0NiLSVKZYq",
        "colab_type": "code",
        "outputId": "51d9df35-1e73-4cce-b31d-a3c956f59073",
        "colab": {
          "base_uri": "https://localhost:8080/",
          "height": 34
        }
      },
      "cell_type": "code",
      "source": [
        "path_to_save = '/content/RNN_ADAM_model=RNN_optimizer=ADAM_initial_lr=0.0001_batch_size=20_seq_len=35_hidden_size=1500_num_layers=2_dp_keep_prob=0.35_save_best_data=contentdata_0'\n",
        "os.listdir(os.path.join('/content', folder_to_save))"
      ],
      "execution_count": 0,
      "outputs": [
        {
          "output_type": "execute_result",
          "data": {
            "text/plain": [
              "['learning_curves.npy', 'exp_config.txt', 'best_params.pt', 'log.txt']"
            ]
          },
          "metadata": {
            "tags": []
          },
          "execution_count": 25
        }
      ]
    },
    {
      "metadata": {
        "id": "vcQ9PV6JKpsK",
        "colab_type": "code",
        "colab": {}
      },
      "cell_type": "code",
      "source": [
        "for filename in os.listdir(path_to_save):\n",
        "    if filename == \"best_params.pt\":\n",
        "        continue\n",
        "    files.download(os.path.join(path_to_save, filename))"
      ],
      "execution_count": 0,
      "outputs": []
    },
    {
      "metadata": {
        "id": "ZXZ36zhiO08i",
        "colab_type": "text"
      },
      "cell_type": "markdown",
      "source": [
        "Plotting the curve:"
      ]
    },
    {
      "metadata": {
        "id": "_2lMCYKLMHQM",
        "colab_type": "code",
        "colab": {}
      },
      "cell_type": "code",
      "source": [
        "import matplotlib.pyplot as plt"
      ],
      "execution_count": 0,
      "outputs": []
    },
    {
      "metadata": {
        "id": "p25waK7_MDjF",
        "colab_type": "code",
        "colab": {}
      },
      "cell_type": "code",
      "source": [
        "def ppl_from_log(path_to_log):\n",
        "    train_ppl = []\n",
        "    val_ppl = []\n",
        "    with open(path_to_log) as f:\n",
        "        for line in f:\n",
        "            line_split = line.split('\\t')\n",
        "            train_ppl.append(float(line_split[1].split()[-1]))\n",
        "            val_ppl.append(float(line_split[2].split()[-1]))\n",
        "    return train_ppl, val_ppl"
      ],
      "execution_count": 0,
      "outputs": []
    },
    {
      "metadata": {
        "id": "k4vNM59SOnAi",
        "colab_type": "code",
        "colab": {}
      },
      "cell_type": "code",
      "source": [
        "train_ppl, val_ppl = ppl_from_log(os.path.join(path_to_save, 'log.txt'))"
      ],
      "execution_count": 0,
      "outputs": []
    },
    {
      "metadata": {
        "id": "Q7CGquaqOsG6",
        "colab_type": "code",
        "outputId": "7738d947-74bd-4bd8-ea9c-635e94fd2abf",
        "colab": {
          "base_uri": "https://localhost:8080/",
          "height": 376
        }
      },
      "cell_type": "code",
      "source": [
        "plt.plot(train_ppl, label=\"train_ppl\")\n",
        "plt.plot(val_ppl, label=\"val_ppl\")\n",
        "plt.xlabel('Epochs')\n",
        "plt.ylabel('Perplexity')\n",
        "plt.title(\"RNN ADAM\")\n",
        "plt.legend()\n",
        "plt.show()"
      ],
      "execution_count": 0,
      "outputs": [
        {
          "output_type": "display_data",
          "data": {
            "image/png": "[encoded data removed]",
            "text/plain": [
              "<Figure size 576x396 with 1 Axes>"
            ]
          },
          "metadata": {
            "tags": []
          }
        }
      ]
    },
    {
      "metadata": {
        "id": "gLofAkR7HrVr",
        "colab_type": "text"
      },
      "cell_type": "markdown",
      "source": [
        "***"
      ]
    },
    {
      "metadata": {
        "id": "KvXzSqBVHtIj",
        "colab_type": "text"
      },
      "cell_type": "markdown",
      "source": [
        "***"
      ]
    },
    {
      "metadata": {
        "id": "nJL7_DzRHtzr",
        "colab_type": "text"
      },
      "cell_type": "markdown",
      "source": [
        "# Saved curves"
      ]
    },
    {
      "metadata": {
        "colab_type": "code",
        "outputId": "7738d947-74bd-4bd8-ea9c-635e94fd2abf",
        "id": "kDBG8CdMstY2",
        "colab": {
          "base_uri": "https://localhost:8080/",
          "height": 376
        }
      },
      "cell_type": "code",
      "source": [
        "plt.plot(train_ppl, label=\"train_ppl\")\n",
        "plt.plot(val_ppl, label=\"val_ppl\")\n",
        "plt.xlabel('Epochs')\n",
        "plt.ylabel('Perplexity')\n",
        "plt.title(\"RNN ADAM\")\n",
        "plt.legend()\n",
        "plt.show()"
      ],
      "execution_count": 0,
      "outputs": [
        {
          "output_type": "display_data",
          "data": {
            "image/png": "[encoded data removed]",
            "text/plain": [
              "<Figure size 576x396 with 1 Axes>"
            ]
          },
          "metadata": {
            "tags": []
          }
        }
      ]
    }
  ]
}
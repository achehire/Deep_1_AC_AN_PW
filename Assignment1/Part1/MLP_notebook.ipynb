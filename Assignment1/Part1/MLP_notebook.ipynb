{
 "cells": [
  {
   "cell_type": "markdown",
   "metadata": {},
   "source": [
    "<div style=\"text-align: center; font-size: 30pt; font-weight: bold; margin: 1em 0em 1em 0em\">Homework 1</div>\n",
    "\n",
    "$\\textbf{Authors}$ : Antoine Chehire, Philippe Ware, Adel Nabli"
   ]
  },
  {
   "cell_type": "code",
   "execution_count": 1,
   "metadata": {},
   "outputs": [
    {
     "name": "stderr",
     "output_type": "stream",
     "text": [
      "L:\\Anaconda3\\lib\\site-packages\\h5py\\__init__.py:36: FutureWarning: Conversion of the second argument of issubdtype from `float` to `np.floating` is deprecated. In future, it will be treated as `np.float64 == np.dtype(float).type`.\n",
      "  from ._conv import register_converters as _register_converters\n"
     ]
    }
   ],
   "source": [
    "import numpy as np\n",
    "import matplotlib.pyplot as plt\n",
    "import cloudpickle as pickle\n",
    "import tensorflow as tf\n",
    "from sklearn.preprocessing import OneHotEncoder\n",
    "from sklearn.metrics import accuracy_score\n",
    "from sklearn.model_selection import train_test_split\n",
    "from time import time\n",
    "from tqdm import tqdm"
   ]
  },
  {
   "cell_type": "code",
   "execution_count": 2,
   "metadata": {},
   "outputs": [],
   "source": [
    "# Load the data in the format of a design matrix for X\n",
    "# and one-hot encode Y\n",
    "\n",
    "data_path = r'D:\\ECP\\DD\\DD Canada\\udm\\Cours\\Hivers 2019\\Representation learning\\DM\\mnist.pkl'\n",
    "\n",
    "with open(data_path, 'rb') as f:\n",
    "    (x_train, y_train), (x_val, y_val), (x_test, y_test) = pickle.load(f, encoding='latin-1')\n",
    "\n",
    "X_train = np.reshape(x_train, (len(x_train), 784))\n",
    "X_val = np.reshape(x_val, (len(x_val), 784))\n",
    "X_test = np.reshape(x_test, (len(x_test), 784))\n",
    "Y_train = OneHotEncoder().fit_transform(np.reshape(y_train, (len(y_train),1))).toarray()\n",
    "Y_test = OneHotEncoder().fit_transform(np.reshape(y_test, (len(y_test),1))).toarray()\n",
    "Y_val = OneHotEncoder().fit_transform(np.reshape(y_val, (len(y_val),1))).toarray()"
   ]
  },
  {
   "cell_type": "markdown",
   "metadata": {},
   "source": [
    "# Problem 1:"
   ]
  },
  {
   "cell_type": "markdown",
   "metadata": {},
   "source": [
    "We want to build a MLP with two hidden layers with $h^1$ and $h^2$ hidden units. The data is given in the form of a design matrix $X \\in \\mathbb{R}^{n \\times 784}$ and $\\forall i \\in [\\![1,n]\\!], y^i \\in \\mathbb{R}^{10}$ is the one-hot encoding of the label.\n",
    "The output layer is parametrized by a $softmax$ function $s(z)_c = \\dfrac{e^{z_c}}{\\sum_c e^{z_c}}$.\n",
    "\n",
    "* We choose the sigmoid function as a non linearity for both layers.\n",
    "We have: $\\sigma(z) = \\dfrac{1}{1+ e^{-z}}$ and $\\sigma'(z) = (1-\\sigma(z))\\sigma(z)$.\n",
    "\n",
    "\n",
    "* Thus, our NN is computing, for each example $x \\in \\mathbb{R}^{784}$:\n",
    "\n",
    "    - $A_1 = \\sigma(W_1 x + b_1)$ with $W_1 \\in \\mathbb{R}^{h_1 \\times 784}$ and $b_1 \\in \\mathbb{R}^{h_1}$\n",
    "    - $A_2 = \\sigma(W_2 A_1 + b_2)$ with $W_2 \\in \\mathbb{R}^{h_2 \\times h_1}$ and $b_2 \\in \\mathbb{R}^{h_2}$\n",
    "    - $O = s(W_3 A_2 + b_3)$ with $W_3 \\in \\mathbb{R}^{10 \\times h_2}$ and $b_3 \\in \\mathbb{R}^{10}$\n",
    "\n",
    "\n",
    "* The cross entropy loss is defined by: $l(y, O) = -\\sum_{c=1}^{10} y_c\\log(o_c)$ (recall that $y_c = \\mathbb{1}_{label=c}$) which leads to a regularized empirical risk $\\hat{R} = \\dfrac{-1}{n} \\sum_{i=1}^n \\sum_{c=1}^{10} y_c^i\\log(o_c^i) + \\lambda \\sum_{j=1}^3 ||W_j||_2^2$ if we consider an $L^2$ regularization.\n",
    "\n",
    "\n",
    "* Our purpose is to learn each parameter $\\theta \\in \\{ W_1, b_1, W_2, b_2, W_3, b_3 \\}$ by **mini batch** gradient descent incrementaly: $\\theta^{t+1} = \\theta^t - \\alpha_t \\big( \\dfrac{1}{|I_t|} \\sum_{i_t \\in I_t}\\dfrac{\\partial l}{\\partial \\theta}(x_{i_t}, y_{i_t}) + 2\\lambda \\theta^t \\big)$  with $\\alpha_t, I_t, x_{I_t}, y_{I_t}$ being respectively the learning rate, the mini-batch, the training examples and the corresponding labels at time $t$. We use the formula $\\alpha_t = \\dfrac{\\alpha_0}{1 + \\delta t}$ for the learning rate.\n",
    "\n",
    "\n",
    "* For that, using the chain-rule, we derive:\n",
    "\n",
    "    - $\\dfrac{\\partial l}{\\partial b_3} = O - y$\n",
    "    - $\\dfrac{\\partial l}{\\partial W_3} = (O - y)A_2^{T}$\n",
    "    - $\\dfrac{\\partial l}{\\partial b_2} = \\dfrac{\\partial l}{\\partial A_2}*(1-A_2)*A_2$ with $\\dfrac{\\partial l}{\\partial A_2} = W_3 ^T  \\dfrac{\\partial l}{\\partial b_3}$\n",
    "    - $\\dfrac{\\partial l}{\\partial W_2} = \\dfrac{\\partial l}{\\partial b_2 } A_1 ^T$\n",
    "    - $\\dfrac{\\partial l}{\\partial b_1} = \\dfrac{\\partial l}{\\partial A_1}*(1-A_1)*A_1$ with $\\dfrac{\\partial l}{\\partial A_1} = W_2 ^T  \\dfrac{\\partial l}{\\partial b_2}$\n",
    "    - $\\dfrac{\\partial l}{\\partial W_1} = \\dfrac{\\partial l}{\\partial b_1 } x ^T$\n",
    "\n",
    "\n",
    "* To initialize our parameters, we have three options:\n",
    "    - **Zero**: we initialize with zeros\n",
    "    - **Normal**: we initialize with $\\mathcal{N}(0,1)$\n",
    "    - **Glorot**: we initialize with $\\mathcal{U}(-d^l, d^l)$ where $d^l = \\sqrt{\\dfrac{6}{h^{l-1}+h^l}}$"
   ]
  },
  {
   "cell_type": "code",
   "execution_count": 52,
   "metadata": {},
   "outputs": [],
   "source": [
    "class NN(object):\n",
    "    \n",
    "    def __init__(self, hidden_dims=(1024,2048), initialization='glorot',\n",
    "                 learning_rate=0.001, delta=0.7, mini_batch=32, regularization=0.001):\n",
    "        \n",
    "        dims = (784, hidden_dims[0], hidden_dims[1], 10)\n",
    "        W1, b1, W2, b2, W3, b3 = self.initialize_weights(dims, initialization)\n",
    "        parameters = dict()\n",
    "        parameters['W1'] = W1\n",
    "        parameters['b1'] = b1\n",
    "        parameters['W2'] = W2\n",
    "        parameters['b2'] = b2\n",
    "        parameters['W3'] = W3\n",
    "        parameters['b3'] = b3\n",
    "        \n",
    "        cache = dict()\n",
    "        cache['x'] = None\n",
    "        cache['A1'] = None\n",
    "        cache['A2'] = None\n",
    "        cache['O'] = None\n",
    "        cache['y'] = None\n",
    "        \n",
    "        grad = dict()\n",
    "        grad['W1'] = None\n",
    "        grad['b1'] = None\n",
    "        grad['W2'] = None\n",
    "        grad['b2'] = None\n",
    "        grad['W3'] = None\n",
    "        grad['b3'] = None\n",
    "        \n",
    "        self.parameters = parameters\n",
    "        self.cache = cache\n",
    "        self.grad = grad\n",
    "        self.learning_rate = learning_rate\n",
    "        self.delta = delta\n",
    "        self.mini_batch = mini_batch\n",
    "        self.lambda_ = regularization\n",
    "        self.cpt = 0\n",
    "        self.n_samples = 0\n",
    "        \n",
    "    def initialize_weights(self,dims, initialization):\n",
    "        \n",
    "        # dims = (dim_input, h1, h2, dim_output)\n",
    "        \n",
    "        np.random.seed(42)\n",
    "        \n",
    "        d, h1, h2, o = dims\n",
    "        b1 = np.zeros(h1)\n",
    "        b2 = np.zeros(h2)\n",
    "        b3 = np.zeros(o)\n",
    "        \n",
    "        if initialization == 'zero':\n",
    "            \n",
    "            W1 = np.zeros((h1, d))\n",
    "            W2 = np.zeros((h2,h1))\n",
    "            W3 = np.zeros((o,h2))\n",
    "        \n",
    "        elif initialization == 'normal':\n",
    "            \n",
    "            W1 = np.random.normal(0,1,(h1,d))\n",
    "            W2 = np.random.normal(0,1,(h2,h1))\n",
    "            W3 = np.random.normal(0,1,(o,h2))\n",
    "        \n",
    "        elif initialization == 'glorot':\n",
    "            \n",
    "            d1 = np.sqrt(6/(d+h1))\n",
    "            d2 = np.sqrt(6/(h1+h2))\n",
    "            d3 = np.sqrt(6/(h2+o))\n",
    "            \n",
    "            W1 = np.random.uniform(-d1,d1, (h1,d))\n",
    "            W2 = np.random.uniform(-d2,d2, (h2,h1))\n",
    "            W3 = np.random.uniform(-d3,d3, (o,h2))\n",
    "        \n",
    "        return(W1, b1, W2, b2, W3, b3)\n",
    "\n",
    "    def forward(self,x,y):\n",
    "        \n",
    "        W1 = self.parameters['W1']\n",
    "        b1 = self.parameters['b1']\n",
    "        W2 = self.parameters['W2']\n",
    "        b2 = self.parameters['b2']\n",
    "        W3 = self.parameters['W3']\n",
    "        b3 = self.parameters['b3']\n",
    "        \n",
    "        A1 = self.activation(np.dot(W1,x)+np.reshape(b1, (len(b1),1)))\n",
    "        A2 = self.activation(np.dot(W2,A1)+np.reshape(b2, (len(b2),1)))\n",
    "        O = self.softmax(np.dot(W3,A2)+np.reshape(b3, (len(b3),1)))\n",
    "        \n",
    "        self.cache['x'] = x\n",
    "        self.cache['A1'] = A1\n",
    "        self.cache['A2'] = A2\n",
    "        self.cache['O'] = O\n",
    "        self.cache['y'] = y\n",
    "\n",
    "    def activation(self,U):\n",
    "        \n",
    "        return(1/(1+np.exp(-U)))\n",
    "\n",
    "    def loss(self, O, y_true):\n",
    "        \n",
    "        W3 = self.parameters['W3']\n",
    "        W2 = self.parameters['W2']\n",
    "        W1 = self.parameters['W1']\n",
    "        \n",
    "        return(-np.mean(np.log(np.sum(O*y_true, axis=0))) + self.lambda_*(np.sum(W3**2)+np.sum(W1**2)+np.sum(W2**2)))\n",
    "        \n",
    "    def softmax(self,U):\n",
    "        \n",
    "        return(np.exp(U - np.log(np.sum(np.exp(U), axis=0))))\n",
    "\n",
    "    def backward(self):\n",
    "        \n",
    "        x = self.cache['x']\n",
    "        A1 = self.cache['A1']\n",
    "        A2 = self.cache['A2']\n",
    "        O = self.cache['O']\n",
    "        y = self.cache['y']\n",
    "        W3 = self.parameters['W3']\n",
    "        W2 = self.parameters['W2']\n",
    "        W1 = self.parameters['W1']\n",
    "        n_batch = self.n_samples\n",
    "        \n",
    "        db3 = O-y\n",
    "        self.grad['b3'] = np.mean(db3, axis=1)\n",
    "        self.grad['W3'] = np.dot(db3, A2.T)*(1/n_batch) + 2*self.lambda_*W3\n",
    "        dA2 = np.dot(W3.T,db3)\n",
    "        db2 = dA2*(1-A2)*A2\n",
    "        self.grad['b2'] = np.mean(db2, axis=1)\n",
    "        self.grad['W2'] = np.dot(db2, A1.T)*(1/n_batch) + 2*self.lambda_*W2\n",
    "        dA1 = np.dot(W2.T,db2)\n",
    "        db1 = dA1*(1-A1)*A1\n",
    "        self.grad['b1'] = np.mean(db1, axis=1)\n",
    "        self.grad['W1'] = np.dot(db1, x.T)*(1/n_batch) + 2*self.lambda_*W1\n",
    "\n",
    "    def update(self):\n",
    "        \n",
    "        alpha_0 = self.learning_rate\n",
    "        delta = self.delta\n",
    "        self.cpt += 1\n",
    "        \n",
    "        alpha = alpha_0/(1+delta*self.cpt)\n",
    "        \n",
    "        self.parameters['W1'] -= alpha*self.grad['W1']\n",
    "        self.parameters['b1'] -= alpha*self.grad['b1']\n",
    "        self.parameters['W2'] -= alpha*self.grad['W2']\n",
    "        self.parameters['b2'] -= alpha*self.grad['b2']\n",
    "        self.parameters['W3'] -= alpha*self.grad['W3']\n",
    "        self.parameters['b3'] -= alpha*self.grad['b3']\n",
    "\n",
    "    def train(self, X_train, Y_train, X_val, Y_val, n_epoch):\n",
    "        \n",
    "        n = len(X_train)\n",
    "        n_batch = n//self.mini_batch\n",
    "        ids = np.arange(n)\n",
    "        averaged_loss_train = []\n",
    "        averaged_loss_val = []\n",
    "        accuracy_train = []\n",
    "        accuracy_val = []\n",
    "        \n",
    "        for epoch in range(n_epoch):\n",
    "            \n",
    "            t0 = time()\n",
    "            \n",
    "            print('Epoch : %s' %epoch, '\\n')\n",
    "            \n",
    "            np.random.shuffle(ids)\n",
    "            \n",
    "            for i in tqdm(range(n_batch+1)):\n",
    "                \n",
    "                if i == n_batch and n%self.mini_batch > 0:\n",
    "                    \n",
    "                    self.n_samples = n%self.mini_batch\n",
    "                    x = X_train[ids[i*self.mini_batch:],:].T\n",
    "                    y = Y_train[ids[i*self.mini_batch:],:].T\n",
    "                \n",
    "                elif i < n_batch:\n",
    "                    \n",
    "                    self.n_samples = self.mini_batch\n",
    "                    x = X_train[ids[i*self.mini_batch:(i+1)*self.mini_batch],:].T\n",
    "                    y = Y_train[ids[i*self.mini_batch:(i+1)*self.mini_batch],:].T\n",
    "                \n",
    "                self.forward(x,y)\n",
    "                self.backward()\n",
    "                self.update()\n",
    "            \n",
    "            Y_predict_train = self.predict(X_train.T)\n",
    "            averaged_loss_train.append(self.loss(Y_predict_train, Y_train.T))\n",
    "            Y_predict_val = self.predict(X_val.T)\n",
    "            averaged_loss_val.append(self.loss(Y_predict_val, Y_val.T))\n",
    "            \n",
    "            Y_predict_train = self.predict(X_train.T)\n",
    "            y_predict_train = np.argmax(Y_predict_train, axis=0)\n",
    "            y_true_train = np.where(Y_train==1)[1]\n",
    "            y_predict_val = np.argmax(Y_predict_val, axis=0)\n",
    "            y_true_val = np.where(Y_val==1)[1]\n",
    "            accuracy_train.append(accuracy_score(y_true_train, y_predict_train))\n",
    "            accuracy_val.append(accuracy_score(y_true_val, y_predict_val))\n",
    "            print('Accuracy val: ', accuracy_score(y_true_val, y_predict_val), '\\n')\n",
    "            \n",
    "            t1 = time() - t0\n",
    "            print('Training loss = %s' %averaged_loss_train[-1], '\\n')\n",
    "            print('Time taken = %s' %t1, ' seconds' '\\n')\n",
    "            print('========================', '\\n')\n",
    "        \n",
    "        fig = plt.figure(figsize=(16,8))\n",
    "        ax1 = fig.add_subplot(221)\n",
    "        ax1.plot(np.arange(n_epoch), averaged_loss_train, label='training loss')\n",
    "        ax1.plot(np.arange(n_epoch), averaged_loss_val, label='Validation loss')\n",
    "        ax1.set_title('Evolution of the averaged loss during training')\n",
    "        ax1.legend()\n",
    "        ax2 = fig.add_subplot(222)\n",
    "        ax2.plot(np.arange(n_epoch), accuracy_train, label='accuracy train')\n",
    "        ax2.plot(np.arange(n_epoch), accuracy_val, label='accuracy val')\n",
    "        ax2.legend()\n",
    "        ax2.set_title('Evolution of the accuracy during the training')\n",
    "        \n",
    "        plt.show()\n",
    "    \n",
    "    def predict(self, x):\n",
    "        \n",
    "        W1 = self.parameters['W1']\n",
    "        b1 = self.parameters['b1']\n",
    "        W2 = self.parameters['W2']\n",
    "        b2 = self.parameters['b2']\n",
    "        W3 = self.parameters['W3']\n",
    "        b3 = self.parameters['b3']\n",
    "        \n",
    "        A1 = self.activation(np.dot(W1,x)+np.reshape(b1, (len(b1),1)))\n",
    "        A2 = self.activation(np.dot(W2,A1)+np.reshape(b2, (len(b2),1)))\n",
    "        O = self.softmax(np.dot(W3,A2)+np.reshape(b3, (len(b3),1)))\n",
    "        \n",
    "        return(O)\n",
    "    \n",
    "    def finite_difference(self, x, y):\n",
    "        \n",
    "        epsilons = [1e-2, 5e-3, 1e-3, 1e-4, 1e-5]\n",
    "        \n",
    "        W1 = self.parameters['W1']\n",
    "        b1 = self.parameters['b1']\n",
    "        W2 = self.parameters['W2']\n",
    "        b2 = self.parameters['b2']\n",
    "        W3 = self.parameters['W3']\n",
    "        b3 = self.parameters['b3']\n",
    "        \n",
    "        A1 = self.activation(np.dot(W1,x)+b1)\n",
    "        A2 = self.activation(np.dot(W2,A1)+b2)\n",
    "        O = self.softmax(np.dot(W3,A2)+b3)\n",
    "        \n",
    "        db3 = O-y\n",
    "        grad_W3 = np.dot(np.reshape(db3, (len(db3),1)), np.reshape(A2, (1, len(A2))))\n",
    "        dA2 = np.dot(W3.T,db3)\n",
    "        db2 = dA2*(1-A2)*A2\n",
    "        grad_W2 = np.dot(np.reshape(db2, (len(db2),1)), np.reshape(A1, (1, len(A1))))\n",
    "        \n",
    "        max_diff = []\n",
    "        \n",
    "        for epsilon in epsilons:\n",
    "            \n",
    "            diff = []\n",
    "            \n",
    "            for k in range(10):\n",
    "            \n",
    "                W2_plus = W2.copy()\n",
    "                W2_minus = W2.copy()\n",
    "            \n",
    "                W2_plus[0,k] += epsilon\n",
    "                W2_minus[0,k] -= epsilon\n",
    "\n",
    "                A2_plus = self.activation(np.dot(W2_plus,A1)+b2)\n",
    "                O_plus = self.softmax(np.dot(W3,A2_plus)+b3)\n",
    "                loss_plus = -np.log(np.dot(O_plus,y)) + self.lambda_*(np.sum(W3**2)+np.sum(W1**2)+np.sum(W2_plus**2))\n",
    "\n",
    "                A2_minus = self.activation(np.dot(W2_minus,A1)+b2)\n",
    "                O_minus = self.softmax(np.dot(W3,A2_minus)+b3)\n",
    "                loss_minus = -np.log(np.dot(O_minus,y)) + self.lambda_*(np.sum(W3**2)+np.sum(W1**2)+np.sum(W2_minus**2))\n",
    "        \n",
    "                estimated_grad = (loss_plus-loss_minus)/(2*epsilon)\n",
    "                diff.append(np.abs(grad_W2[0,k]-estimated_grad))\n",
    "        \n",
    "            max_diff.append(max(diff))\n",
    "        \n",
    "        plt.figure(figsize=(8,8))\n",
    "        plt.plot(1/np.array(epsilons), max_diff)\n",
    "        plt.xscale('log')\n",
    "        plt.suptitle('Evolution of the maximum of the difference between true and approximated gradient', va='bottom')\n",
    "        plt.show()"
   ]
  },
  {
   "cell_type": "markdown",
   "metadata": {},
   "source": [
    "## Initialization:\n",
    "\n",
    "### Glorot:"
   ]
  },
  {
   "cell_type": "code",
   "execution_count": 25,
   "metadata": {},
   "outputs": [
    {
     "name": "stdout",
     "output_type": "stream",
     "text": [
      "Epoch : 0 \n",
      "\n"
     ]
    },
    {
     "name": "stderr",
     "output_type": "stream",
     "text": [
      "100%|██████████████████████████████████████████████████████████████████████████████| 1563/1563 [00:27<00:00, 56.23it/s]\n"
     ]
    },
    {
     "name": "stdout",
     "output_type": "stream",
     "text": [
      "Accuracy val:  0.9239 \n",
      "\n",
      "Training loss = 0 \n",
      "\n",
      "Time taken = 33.25927019119263  seconds\n",
      "\n",
      "======================== \n",
      "\n",
      "Epoch : 1 \n",
      "\n"
     ]
    },
    {
     "name": "stderr",
     "output_type": "stream",
     "text": [
      "100%|██████████████████████████████████████████████████████████████████████████████| 1563/1563 [00:29<00:00, 52.58it/s]\n"
     ]
    },
    {
     "name": "stdout",
     "output_type": "stream",
     "text": [
      "Accuracy val:  0.9386 \n",
      "\n",
      "Training loss = 0 \n",
      "\n",
      "Time taken = 36.01887583732605  seconds\n",
      "\n",
      "======================== \n",
      "\n",
      "Epoch : 2 \n",
      "\n"
     ]
    },
    {
     "name": "stderr",
     "output_type": "stream",
     "text": [
      "100%|██████████████████████████████████████████████████████████████████████████████| 1563/1563 [00:30<00:00, 52.04it/s]\n"
     ]
    },
    {
     "name": "stdout",
     "output_type": "stream",
     "text": [
      "Accuracy val:  0.9544 \n",
      "\n",
      "Training loss = 0 \n",
      "\n",
      "Time taken = 36.202500104904175  seconds\n",
      "\n",
      "======================== \n",
      "\n",
      "Epoch : 3 \n",
      "\n"
     ]
    },
    {
     "name": "stderr",
     "output_type": "stream",
     "text": [
      "100%|██████████████████████████████████████████████████████████████████████████████| 1563/1563 [00:28<00:00, 53.01it/s]\n"
     ]
    },
    {
     "name": "stdout",
     "output_type": "stream",
     "text": [
      "Accuracy val:  0.9623 \n",
      "\n",
      "Training loss = 0 \n",
      "\n",
      "Time taken = 34.089762687683105  seconds\n",
      "\n",
      "======================== \n",
      "\n",
      "Epoch : 4 \n",
      "\n"
     ]
    },
    {
     "name": "stderr",
     "output_type": "stream",
     "text": [
      "100%|██████████████████████████████████████████████████████████████████████████████| 1563/1563 [00:27<00:00, 56.09it/s]\n"
     ]
    },
    {
     "name": "stdout",
     "output_type": "stream",
     "text": [
      "Accuracy val:  0.963 \n",
      "\n",
      "Training loss = 0 \n",
      "\n",
      "Time taken = 33.0717077255249  seconds\n",
      "\n",
      "======================== \n",
      "\n",
      "Epoch : 5 \n",
      "\n"
     ]
    },
    {
     "name": "stderr",
     "output_type": "stream",
     "text": [
      "100%|██████████████████████████████████████████████████████████████████████████████| 1563/1563 [00:26<00:00, 58.57it/s]\n"
     ]
    },
    {
     "name": "stdout",
     "output_type": "stream",
     "text": [
      "Accuracy val:  0.966 \n",
      "\n",
      "Training loss = 0 \n",
      "\n",
      "Time taken = 32.0487277507782  seconds\n",
      "\n",
      "======================== \n",
      "\n",
      "Epoch : 6 \n",
      "\n"
     ]
    },
    {
     "name": "stderr",
     "output_type": "stream",
     "text": [
      "100%|██████████████████████████████████████████████████████████████████████████████| 1563/1563 [00:26<00:00, 58.10it/s]\n"
     ]
    },
    {
     "name": "stdout",
     "output_type": "stream",
     "text": [
      "Accuracy val:  0.9668 \n",
      "\n",
      "Training loss = 0 \n",
      "\n",
      "Time taken = 32.256447315216064  seconds\n",
      "\n",
      "======================== \n",
      "\n",
      "Epoch : 7 \n",
      "\n"
     ]
    },
    {
     "name": "stderr",
     "output_type": "stream",
     "text": [
      "100%|██████████████████████████████████████████████████████████████████████████████| 1563/1563 [00:27<00:00, 56.48it/s]\n"
     ]
    },
    {
     "name": "stdout",
     "output_type": "stream",
     "text": [
      "Accuracy val:  0.9689 \n",
      "\n",
      "Training loss = 0 \n",
      "\n",
      "Time taken = 33.22788453102112  seconds\n",
      "\n",
      "======================== \n",
      "\n",
      "Epoch : 8 \n",
      "\n"
     ]
    },
    {
     "name": "stderr",
     "output_type": "stream",
     "text": [
      "100%|██████████████████████████████████████████████████████████████████████████████| 1563/1563 [00:26<00:00, 58.24it/s]\n"
     ]
    },
    {
     "name": "stdout",
     "output_type": "stream",
     "text": [
      "Accuracy val:  0.9702 \n",
      "\n",
      "Training loss = 0 \n",
      "\n",
      "Time taken = 32.23391628265381  seconds\n",
      "\n",
      "======================== \n",
      "\n",
      "Epoch : 9 \n",
      "\n"
     ]
    },
    {
     "name": "stderr",
     "output_type": "stream",
     "text": [
      "100%|██████████████████████████████████████████████████████████████████████████████| 1563/1563 [00:26<00:00, 59.53it/s]\n"
     ]
    },
    {
     "name": "stdout",
     "output_type": "stream",
     "text": [
      "Accuracy val:  0.9677 \n",
      "\n",
      "Training loss = 0 \n",
      "\n",
      "Time taken = 31.52009129524231  seconds\n",
      "\n",
      "======================== \n",
      "\n"
     ]
    },
    {
     "data": {
      "image/png": "[encoded data removed]",
      "text/plain": [
       "<Figure size 1152x576 with 2 Axes>"
      ]
     },
     "metadata": {},
     "output_type": "display_data"
    }
   ],
   "source": [
    "MLP = NN(hidden_dims=(400,700), initialization='glorot', learning_rate=4, delta=2e-3, mini_batch=32, regularization=0.0001)\n",
    "MLP.train(X_train, Y_train, X_val, Y_val, 10)"
   ]
  },
  {
   "cell_type": "markdown",
   "metadata": {},
   "source": [
    "### Zeros:"
   ]
  },
  {
   "cell_type": "code",
   "execution_count": 26,
   "metadata": {},
   "outputs": [
    {
     "name": "stdout",
     "output_type": "stream",
     "text": [
      "Epoch : 0 \n",
      "\n"
     ]
    },
    {
     "name": "stderr",
     "output_type": "stream",
     "text": [
      "100%|██████████████████████████████████████████████████████████████████████████████| 1563/1563 [00:26<00:00, 59.95it/s]\n"
     ]
    },
    {
     "name": "stdout",
     "output_type": "stream",
     "text": [
      "Accuracy val:  0.0967 \n",
      "\n",
      "Training loss = 0 \n",
      "\n",
      "Time taken = 31.40697431564331  seconds\n",
      "\n",
      "======================== \n",
      "\n",
      "Epoch : 1 \n",
      "\n"
     ]
    },
    {
     "name": "stderr",
     "output_type": "stream",
     "text": [
      "100%|██████████████████████████████████████████████████████████████████████████████| 1563/1563 [00:26<00:00, 59.35it/s]\n"
     ]
    },
    {
     "name": "stdout",
     "output_type": "stream",
     "text": [
      "Accuracy val:  0.2517 \n",
      "\n",
      "Training loss = 0 \n",
      "\n",
      "Time taken = 31.87410020828247  seconds\n",
      "\n",
      "======================== \n",
      "\n",
      "Epoch : 2 \n",
      "\n"
     ]
    },
    {
     "name": "stderr",
     "output_type": "stream",
     "text": [
      "100%|██████████████████████████████████████████████████████████████████████████████| 1563/1563 [00:26<00:00, 58.51it/s]\n"
     ]
    },
    {
     "name": "stdout",
     "output_type": "stream",
     "text": [
      "Accuracy val:  0.2699 \n",
      "\n",
      "Training loss = 0 \n",
      "\n",
      "Time taken = 32.19155240058899  seconds\n",
      "\n",
      "======================== \n",
      "\n",
      "Epoch : 3 \n",
      "\n"
     ]
    },
    {
     "name": "stderr",
     "output_type": "stream",
     "text": [
      "100%|██████████████████████████████████████████████████████████████████████████████| 1563/1563 [00:27<00:00, 57.53it/s]\n"
     ]
    },
    {
     "name": "stdout",
     "output_type": "stream",
     "text": [
      "Accuracy val:  0.2886 \n",
      "\n",
      "Training loss = 0 \n",
      "\n",
      "Time taken = 32.79192519187927  seconds\n",
      "\n",
      "======================== \n",
      "\n",
      "Epoch : 4 \n",
      "\n"
     ]
    },
    {
     "name": "stderr",
     "output_type": "stream",
     "text": [
      "100%|██████████████████████████████████████████████████████████████████████████████| 1563/1563 [00:26<00:00, 58.58it/s]\n"
     ]
    },
    {
     "name": "stdout",
     "output_type": "stream",
     "text": [
      "Accuracy val:  0.2725 \n",
      "\n",
      "Training loss = 0 \n",
      "\n",
      "Time taken = 32.10981822013855  seconds\n",
      "\n",
      "======================== \n",
      "\n",
      "Epoch : 5 \n",
      "\n"
     ]
    },
    {
     "name": "stderr",
     "output_type": "stream",
     "text": [
      "100%|██████████████████████████████████████████████████████████████████████████████| 1563/1563 [00:27<00:00, 57.67it/s]\n"
     ]
    },
    {
     "name": "stdout",
     "output_type": "stream",
     "text": [
      "Accuracy val:  0.292 \n",
      "\n",
      "Training loss = 0 \n",
      "\n",
      "Time taken = 33.315786600112915  seconds\n",
      "\n",
      "======================== \n",
      "\n",
      "Epoch : 6 \n",
      "\n"
     ]
    },
    {
     "name": "stderr",
     "output_type": "stream",
     "text": [
      "100%|██████████████████████████████████████████████████████████████████████████████| 1563/1563 [00:27<00:00, 57.89it/s]\n"
     ]
    },
    {
     "name": "stdout",
     "output_type": "stream",
     "text": [
      "Accuracy val:  0.3312 \n",
      "\n",
      "Training loss = 0 \n",
      "\n",
      "Time taken = 32.51650667190552  seconds\n",
      "\n",
      "======================== \n",
      "\n",
      "Epoch : 7 \n",
      "\n"
     ]
    },
    {
     "name": "stderr",
     "output_type": "stream",
     "text": [
      "100%|██████████████████████████████████████████████████████████████████████████████| 1563/1563 [00:26<00:00, 59.69it/s]\n"
     ]
    },
    {
     "name": "stdout",
     "output_type": "stream",
     "text": [
      "Accuracy val:  0.3473 \n",
      "\n",
      "Training loss = 0 \n",
      "\n",
      "Time taken = 31.879576683044434  seconds\n",
      "\n",
      "======================== \n",
      "\n",
      "Epoch : 8 \n",
      "\n"
     ]
    },
    {
     "name": "stderr",
     "output_type": "stream",
     "text": [
      "100%|██████████████████████████████████████████████████████████████████████████████| 1563/1563 [00:26<00:00, 59.30it/s]\n"
     ]
    },
    {
     "name": "stdout",
     "output_type": "stream",
     "text": [
      "Accuracy val:  0.3598 \n",
      "\n",
      "Training loss = 0 \n",
      "\n",
      "Time taken = 31.69090700149536  seconds\n",
      "\n",
      "======================== \n",
      "\n",
      "Epoch : 9 \n",
      "\n"
     ]
    },
    {
     "name": "stderr",
     "output_type": "stream",
     "text": [
      "100%|██████████████████████████████████████████████████████████████████████████████| 1563/1563 [00:26<00:00, 59.05it/s]\n"
     ]
    },
    {
     "name": "stdout",
     "output_type": "stream",
     "text": [
      "Accuracy val:  0.3426 \n",
      "\n",
      "Training loss = 0 \n",
      "\n",
      "Time taken = 31.883728504180908  seconds\n",
      "\n",
      "======================== \n",
      "\n"
     ]
    },
    {
     "data": {
      "image/png": "[encoded data removed]",
      "text/plain": [
       "<Figure size 1152x576 with 2 Axes>"
      ]
     },
     "metadata": {},
     "output_type": "display_data"
    }
   ],
   "source": [
    "MLP = NN(hidden_dims=(400,700), initialization='zero', learning_rate=4, delta=2e-3, mini_batch=32, regularization=0.0001)\n",
    "MLP.train(X_train, Y_train, X_val, Y_val, 10)"
   ]
  },
  {
   "cell_type": "markdown",
   "metadata": {},
   "source": [
    "### Normal:"
   ]
  },
  {
   "cell_type": "code",
   "execution_count": 29,
   "metadata": {},
   "outputs": [
    {
     "name": "stdout",
     "output_type": "stream",
     "text": [
      "Epoch : 0 \n",
      "\n"
     ]
    },
    {
     "name": "stderr",
     "output_type": "stream",
     "text": [
      "100%|██████████████████████████████████████████████████████████████████████████████| 1563/1563 [00:27<00:00, 55.96it/s]\n"
     ]
    },
    {
     "name": "stdout",
     "output_type": "stream",
     "text": [
      "Accuracy val:  0.925 \n",
      "\n",
      "Training loss = 21.390625242520525 \n",
      "\n",
      "Time taken = 33.46362495422363  seconds\n",
      "\n",
      "======================== \n",
      "\n",
      "Epoch : 1 \n",
      "\n"
     ]
    },
    {
     "name": "stderr",
     "output_type": "stream",
     "text": [
      "100%|██████████████████████████████████████████████████████████████████████████████| 1563/1563 [00:28<00:00, 55.41it/s]\n"
     ]
    },
    {
     "name": "stdout",
     "output_type": "stream",
     "text": [
      "Accuracy val:  0.9421 \n",
      "\n",
      "Training loss = 13.607254551956768 \n",
      "\n",
      "Time taken = 33.65702509880066  seconds\n",
      "\n",
      "======================== \n",
      "\n",
      "Epoch : 2 \n",
      "\n"
     ]
    },
    {
     "name": "stderr",
     "output_type": "stream",
     "text": [
      "100%|██████████████████████████████████████████████████████████████████████████████| 1563/1563 [00:26<00:00, 58.47it/s]\n"
     ]
    },
    {
     "name": "stdout",
     "output_type": "stream",
     "text": [
      "Accuracy val:  0.9626 \n",
      "\n",
      "Training loss = 10.19457707989166 \n",
      "\n",
      "Time taken = 32.323715925216675  seconds\n",
      "\n",
      "======================== \n",
      "\n",
      "Epoch : 3 \n",
      "\n"
     ]
    },
    {
     "name": "stderr",
     "output_type": "stream",
     "text": [
      "100%|██████████████████████████████████████████████████████████████████████████████| 1563/1563 [00:27<00:00, 57.40it/s]\n"
     ]
    },
    {
     "name": "stdout",
     "output_type": "stream",
     "text": [
      "Accuracy val:  0.964 \n",
      "\n",
      "Training loss = 8.278339904837862 \n",
      "\n",
      "Time taken = 33.11240267753601  seconds\n",
      "\n",
      "======================== \n",
      "\n",
      "Epoch : 4 \n",
      "\n"
     ]
    },
    {
     "name": "stderr",
     "output_type": "stream",
     "text": [
      "100%|██████████████████████████████████████████████████████████████████████████████| 1563/1563 [00:29<00:00, 53.74it/s]\n"
     ]
    },
    {
     "name": "stdout",
     "output_type": "stream",
     "text": [
      "Accuracy val:  0.9669 \n",
      "\n",
      "Training loss = 7.021810568941083 \n",
      "\n",
      "Time taken = 34.927560806274414  seconds\n",
      "\n",
      "======================== \n",
      "\n",
      "Epoch : 5 \n",
      "\n"
     ]
    },
    {
     "name": "stderr",
     "output_type": "stream",
     "text": [
      "100%|██████████████████████████████████████████████████████████████████████████████| 1563/1563 [00:27<00:00, 56.10it/s]\n"
     ]
    },
    {
     "name": "stdout",
     "output_type": "stream",
     "text": [
      "Accuracy val:  0.967 \n",
      "\n",
      "Training loss = 6.134534123513527 \n",
      "\n",
      "Time taken = 33.38402438163757  seconds\n",
      "\n",
      "======================== \n",
      "\n",
      "Epoch : 6 \n",
      "\n"
     ]
    },
    {
     "name": "stderr",
     "output_type": "stream",
     "text": [
      "100%|██████████████████████████████████████████████████████████████████████████████| 1563/1563 [00:27<00:00, 57.11it/s]\n"
     ]
    },
    {
     "name": "stdout",
     "output_type": "stream",
     "text": [
      "Accuracy val:  0.9669 \n",
      "\n",
      "Training loss = 5.466128616050095 \n",
      "\n",
      "Time taken = 32.926153898239136  seconds\n",
      "\n",
      "======================== \n",
      "\n",
      "Epoch : 7 \n",
      "\n"
     ]
    },
    {
     "name": "stderr",
     "output_type": "stream",
     "text": [
      "100%|██████████████████████████████████████████████████████████████████████████████| 1563/1563 [00:27<00:00, 56.76it/s]\n"
     ]
    },
    {
     "name": "stdout",
     "output_type": "stream",
     "text": [
      "Accuracy val:  0.9705 \n",
      "\n",
      "Training loss = 4.940996013787525 \n",
      "\n",
      "Time taken = 32.97569537162781  seconds\n",
      "\n",
      "======================== \n",
      "\n",
      "Epoch : 8 \n",
      "\n"
     ]
    },
    {
     "name": "stderr",
     "output_type": "stream",
     "text": [
      "100%|██████████████████████████████████████████████████████████████████████████████| 1563/1563 [00:26<00:00, 58.27it/s]\n"
     ]
    },
    {
     "name": "stdout",
     "output_type": "stream",
     "text": [
      "Accuracy val:  0.9683 \n",
      "\n",
      "Training loss = 4.524721464855893 \n",
      "\n",
      "Time taken = 32.380871057510376  seconds\n",
      "\n",
      "======================== \n",
      "\n",
      "Epoch : 9 \n",
      "\n"
     ]
    },
    {
     "name": "stderr",
     "output_type": "stream",
     "text": [
      "100%|██████████████████████████████████████████████████████████████████████████████| 1563/1563 [00:27<00:00, 57.10it/s]\n"
     ]
    },
    {
     "name": "stdout",
     "output_type": "stream",
     "text": [
      "Accuracy val:  0.9715 \n",
      "\n",
      "Training loss = 4.175824076828247 \n",
      "\n",
      "Time taken = 32.96682596206665  seconds\n",
      "\n",
      "======================== \n",
      "\n"
     ]
    },
    {
     "data": {
      "image/png": "[encoded data removed]",
      "text/plain": [
       "<Figure size 1152x576 with 2 Axes>"
      ]
     },
     "metadata": {},
     "output_type": "display_data"
    }
   ],
   "source": [
    "MLP = NN(hidden_dims=(400,700), initialization='normal', learning_rate=4, delta=2e-3, mini_batch=32, regularization=0.0001)\n",
    "MLP.train(X_train, Y_train, X_val, Y_val, 10)"
   ]
  },
  {
   "cell_type": "markdown",
   "metadata": {},
   "source": [
    "## Hyperparameter search:"
   ]
  },
  {
   "cell_type": "code",
   "execution_count": 30,
   "metadata": {},
   "outputs": [
    {
     "name": "stdout",
     "output_type": "stream",
     "text": [
      "Epoch : 0 \n",
      "\n"
     ]
    },
    {
     "name": "stderr",
     "output_type": "stream",
     "text": [
      "100%|██████████████████████████████████████████████████████████████████████████████| 1563/1563 [00:28<00:00, 54.09it/s]\n"
     ]
    },
    {
     "name": "stdout",
     "output_type": "stream",
     "text": [
      "Accuracy val:  0.9371 \n",
      "\n",
      "Training loss = 0.5594703140131642 \n",
      "\n",
      "Time taken = 34.57269024848938  seconds\n",
      "\n",
      "======================== \n",
      "\n",
      "Epoch : 1 \n",
      "\n"
     ]
    },
    {
     "name": "stderr",
     "output_type": "stream",
     "text": [
      "100%|██████████████████████████████████████████████████████████████████████████████| 1563/1563 [00:30<00:00, 51.10it/s]\n"
     ]
    },
    {
     "name": "stdout",
     "output_type": "stream",
     "text": [
      "Accuracy val:  0.9494 \n",
      "\n",
      "Training loss = 0.4563306366669434 \n",
      "\n",
      "Time taken = 37.03916311264038  seconds\n",
      "\n",
      "======================== \n",
      "\n",
      "Epoch : 2 \n",
      "\n"
     ]
    },
    {
     "name": "stderr",
     "output_type": "stream",
     "text": [
      "100%|██████████████████████████████████████████████████████████████████████████████| 1563/1563 [00:29<00:00, 52.31it/s]\n"
     ]
    },
    {
     "name": "stdout",
     "output_type": "stream",
     "text": [
      "Accuracy val:  0.9561 \n",
      "\n",
      "Training loss = 0.38507498242354876 \n",
      "\n",
      "Time taken = 35.84027886390686  seconds\n",
      "\n",
      "======================== \n",
      "\n",
      "Epoch : 3 \n",
      "\n"
     ]
    },
    {
     "name": "stderr",
     "output_type": "stream",
     "text": [
      "100%|██████████████████████████████████████████████████████████████████████████████| 1563/1563 [00:29<00:00, 53.14it/s]\n"
     ]
    },
    {
     "name": "stdout",
     "output_type": "stream",
     "text": [
      "Accuracy val:  0.9637 \n",
      "\n",
      "Training loss = 0.3432016099109002 \n",
      "\n",
      "Time taken = 35.610881090164185  seconds\n",
      "\n",
      "======================== \n",
      "\n",
      "Epoch : 4 \n",
      "\n"
     ]
    },
    {
     "name": "stderr",
     "output_type": "stream",
     "text": [
      "100%|██████████████████████████████████████████████████████████████████████████████| 1563/1563 [00:28<00:00, 53.92it/s]\n"
     ]
    },
    {
     "name": "stdout",
     "output_type": "stream",
     "text": [
      "Accuracy val:  0.9652 \n",
      "\n",
      "Training loss = 0.3252772933965116 \n",
      "\n",
      "Time taken = 35.18803858757019  seconds\n",
      "\n",
      "======================== \n",
      "\n",
      "Epoch : 5 \n",
      "\n"
     ]
    },
    {
     "name": "stderr",
     "output_type": "stream",
     "text": [
      "100%|██████████████████████████████████████████████████████████████████████████████| 1563/1563 [00:29<00:00, 50.74it/s]\n"
     ]
    },
    {
     "name": "stdout",
     "output_type": "stream",
     "text": [
      "Accuracy val:  0.9663 \n",
      "\n",
      "Training loss = 0.3081840018006412 \n",
      "\n",
      "Time taken = 36.08551812171936  seconds\n",
      "\n",
      "======================== \n",
      "\n",
      "Epoch : 6 \n",
      "\n"
     ]
    },
    {
     "name": "stderr",
     "output_type": "stream",
     "text": [
      "100%|██████████████████████████████████████████████████████████████████████████████| 1563/1563 [00:28<00:00, 57.70it/s]\n"
     ]
    },
    {
     "name": "stdout",
     "output_type": "stream",
     "text": [
      "Accuracy val:  0.9662 \n",
      "\n",
      "Training loss = 0.2966887415755849 \n",
      "\n",
      "Time taken = 34.54465961456299  seconds\n",
      "\n",
      "======================== \n",
      "\n",
      "Epoch : 7 \n",
      "\n"
     ]
    },
    {
     "name": "stderr",
     "output_type": "stream",
     "text": [
      "100%|██████████████████████████████████████████████████████████████████████████████| 1563/1563 [00:28<00:00, 55.02it/s]\n"
     ]
    },
    {
     "name": "stdout",
     "output_type": "stream",
     "text": [
      "Accuracy val:  0.9679 \n",
      "\n",
      "Training loss = 0.2853963671009139 \n",
      "\n",
      "Time taken = 34.24699831008911  seconds\n",
      "\n",
      "======================== \n",
      "\n",
      "Epoch : 8 \n",
      "\n"
     ]
    },
    {
     "name": "stderr",
     "output_type": "stream",
     "text": [
      "100%|██████████████████████████████████████████████████████████████████████████████| 1563/1563 [00:28<00:00, 55.11it/s]\n"
     ]
    },
    {
     "name": "stdout",
     "output_type": "stream",
     "text": [
      "Accuracy val:  0.9687 \n",
      "\n",
      "Training loss = 0.27964126441410037 \n",
      "\n",
      "Time taken = 34.04605555534363  seconds\n",
      "\n",
      "======================== \n",
      "\n",
      "Epoch : 9 \n",
      "\n"
     ]
    },
    {
     "name": "stderr",
     "output_type": "stream",
     "text": [
      "100%|██████████████████████████████████████████████████████████████████████████████| 1563/1563 [00:28<00:00, 55.13it/s]\n"
     ]
    },
    {
     "name": "stdout",
     "output_type": "stream",
     "text": [
      "Accuracy val:  0.9678 \n",
      "\n",
      "Training loss = 0.27325723264913726 \n",
      "\n",
      "Time taken = 34.04072952270508  seconds\n",
      "\n",
      "======================== \n",
      "\n"
     ]
    },
    {
     "data": {
      "image/png": "[encoded data removed]",
      "text/plain": [
       "<Figure size 1152x576 with 2 Axes>"
      ]
     },
     "metadata": {},
     "output_type": "display_data"
    }
   ],
   "source": [
    "MLP = NN(hidden_dims=(400,700), initialization='glorot', learning_rate=3, delta=2e-3, mini_batch=32, regularization=0.0001)\n",
    "MLP.train(X_train, Y_train, X_val, Y_val, 10)"
   ]
  },
  {
   "cell_type": "code",
   "execution_count": 31,
   "metadata": {},
   "outputs": [
    {
     "name": "stdout",
     "output_type": "stream",
     "text": [
      "Epoch : 0 \n",
      "\n"
     ]
    },
    {
     "name": "stderr",
     "output_type": "stream",
     "text": [
      "100%|████████████████████████████████████████████████████████████████████████████████| 782/782 [00:15<00:00, 50.28it/s]\n"
     ]
    },
    {
     "name": "stdout",
     "output_type": "stream",
     "text": [
      "Accuracy val:  0.9243 \n",
      "\n",
      "Training loss = 0.6697468548473557 \n",
      "\n",
      "Time taken = 21.324926376342773  seconds\n",
      "\n",
      "======================== \n",
      "\n",
      "Epoch : 1 \n",
      "\n"
     ]
    },
    {
     "name": "stderr",
     "output_type": "stream",
     "text": [
      "100%|████████████████████████████████████████████████████████████████████████████████| 782/782 [00:15<00:00, 49.54it/s]\n"
     ]
    },
    {
     "name": "stdout",
     "output_type": "stream",
     "text": [
      "Accuracy val:  0.8932 \n",
      "\n",
      "Training loss = 0.6596383723467389 \n",
      "\n",
      "Time taken = 21.510850191116333  seconds\n",
      "\n",
      "======================== \n",
      "\n",
      "Epoch : 2 \n",
      "\n"
     ]
    },
    {
     "name": "stderr",
     "output_type": "stream",
     "text": [
      "100%|████████████████████████████████████████████████████████████████████████████████| 782/782 [00:15<00:00, 50.61it/s]\n"
     ]
    },
    {
     "name": "stdout",
     "output_type": "stream",
     "text": [
      "Accuracy val:  0.952 \n",
      "\n",
      "Training loss = 0.4162148365064486 \n",
      "\n",
      "Time taken = 21.279532194137573  seconds\n",
      "\n",
      "======================== \n",
      "\n",
      "Epoch : 3 \n",
      "\n"
     ]
    },
    {
     "name": "stderr",
     "output_type": "stream",
     "text": [
      "100%|████████████████████████████████████████████████████████████████████████████████| 782/782 [00:15<00:00, 50.74it/s]\n"
     ]
    },
    {
     "name": "stdout",
     "output_type": "stream",
     "text": [
      "Accuracy val:  0.9616 \n",
      "\n",
      "Training loss = 0.35530589330915263 \n",
      "\n",
      "Time taken = 21.087711334228516  seconds\n",
      "\n",
      "======================== \n",
      "\n",
      "Epoch : 4 \n",
      "\n"
     ]
    },
    {
     "name": "stderr",
     "output_type": "stream",
     "text": [
      "100%|████████████████████████████████████████████████████████████████████████████████| 782/782 [00:15<00:00, 50.48it/s]\n"
     ]
    },
    {
     "name": "stdout",
     "output_type": "stream",
     "text": [
      "Accuracy val:  0.9645 \n",
      "\n",
      "Training loss = 0.3308390197019204 \n",
      "\n",
      "Time taken = 21.636276483535767  seconds\n",
      "\n",
      "======================== \n",
      "\n",
      "Epoch : 5 \n",
      "\n"
     ]
    },
    {
     "name": "stderr",
     "output_type": "stream",
     "text": [
      "100%|████████████████████████████████████████████████████████████████████████████████| 782/782 [00:15<00:00, 49.68it/s]\n"
     ]
    },
    {
     "name": "stdout",
     "output_type": "stream",
     "text": [
      "Accuracy val:  0.9662 \n",
      "\n",
      "Training loss = 0.3119538980516731 \n",
      "\n",
      "Time taken = 21.841534852981567  seconds\n",
      "\n",
      "======================== \n",
      "\n",
      "Epoch : 6 \n",
      "\n"
     ]
    },
    {
     "name": "stderr",
     "output_type": "stream",
     "text": [
      "100%|████████████████████████████████████████████████████████████████████████████████| 782/782 [00:15<00:00, 49.99it/s]\n"
     ]
    },
    {
     "name": "stdout",
     "output_type": "stream",
     "text": [
      "Accuracy val:  0.9651 \n",
      "\n",
      "Training loss = 0.29803384655766696 \n",
      "\n",
      "Time taken = 21.67920160293579  seconds\n",
      "\n",
      "======================== \n",
      "\n",
      "Epoch : 7 \n",
      "\n"
     ]
    },
    {
     "name": "stderr",
     "output_type": "stream",
     "text": [
      "100%|████████████████████████████████████████████████████████████████████████████████| 782/782 [00:15<00:00, 50.73it/s]\n"
     ]
    },
    {
     "name": "stdout",
     "output_type": "stream",
     "text": [
      "Accuracy val:  0.9699 \n",
      "\n",
      "Training loss = 0.2821631963494465 \n",
      "\n",
      "Time taken = 21.20193099975586  seconds\n",
      "\n",
      "======================== \n",
      "\n",
      "Epoch : 8 \n",
      "\n"
     ]
    },
    {
     "name": "stderr",
     "output_type": "stream",
     "text": [
      "100%|████████████████████████████████████████████████████████████████████████████████| 782/782 [00:15<00:00, 49.87it/s]\n"
     ]
    },
    {
     "name": "stdout",
     "output_type": "stream",
     "text": [
      "Accuracy val:  0.9702 \n",
      "\n",
      "Training loss = 0.27139173700161534 \n",
      "\n",
      "Time taken = 21.839308738708496  seconds\n",
      "\n",
      "======================== \n",
      "\n",
      "Epoch : 9 \n",
      "\n"
     ]
    },
    {
     "name": "stderr",
     "output_type": "stream",
     "text": [
      "100%|████████████████████████████████████████████████████████████████████████████████| 782/782 [00:15<00:00, 49.31it/s]\n"
     ]
    },
    {
     "name": "stdout",
     "output_type": "stream",
     "text": [
      "Accuracy val:  0.9661 \n",
      "\n",
      "Training loss = 0.2724998079241634 \n",
      "\n",
      "Time taken = 21.66120171546936  seconds\n",
      "\n",
      "======================== \n",
      "\n"
     ]
    },
    {
     "data": {
      "image/png": "[encoded data removed]",
      "text/plain": [
       "<Figure size 1152x576 with 2 Axes>"
      ]
     },
     "metadata": {},
     "output_type": "display_data"
    }
   ],
   "source": [
    "MLP = NN(hidden_dims=(400,700), initialization='glorot', learning_rate=4, delta=2e-3, mini_batch=64, regularization=0.0001)\n",
    "MLP.train(X_train, Y_train, X_val, Y_val, 10)"
   ]
  },
  {
   "cell_type": "code",
   "execution_count": 44,
   "metadata": {},
   "outputs": [
    {
     "name": "stdout",
     "output_type": "stream",
     "text": [
      "Epoch : 0 \n",
      "\n"
     ]
    },
    {
     "name": "stderr",
     "output_type": "stream",
     "text": [
      "100%|████████████████████████████████████████████████████████████████████████████████| 782/782 [00:16<00:00, 47.28it/s]\n"
     ]
    },
    {
     "name": "stdout",
     "output_type": "stream",
     "text": [
      "Accuracy val:  0.2292 \n",
      "\n",
      "Training loss = 2.9722315100916683 \n",
      "\n",
      "Time taken = 22.54770565032959  seconds\n",
      "\n",
      "======================== \n",
      "\n",
      "Epoch : 1 \n",
      "\n"
     ]
    },
    {
     "name": "stderr",
     "output_type": "stream",
     "text": [
      "100%|████████████████████████████████████████████████████████████████████████████████| 782/782 [00:16<00:00, 48.11it/s]\n"
     ]
    },
    {
     "name": "stdout",
     "output_type": "stream",
     "text": [
      "Accuracy val:  0.2421 \n",
      "\n",
      "Training loss = 2.630755062253223 \n",
      "\n",
      "Time taken = 22.529380559921265  seconds\n",
      "\n",
      "======================== \n",
      "\n",
      "Epoch : 2 \n",
      "\n"
     ]
    },
    {
     "name": "stderr",
     "output_type": "stream",
     "text": [
      "100%|████████████████████████████████████████████████████████████████████████████████| 782/782 [00:16<00:00, 47.14it/s]\n"
     ]
    },
    {
     "name": "stdout",
     "output_type": "stream",
     "text": [
      "Accuracy val:  0.2486 \n",
      "\n",
      "Training loss = 2.5057734376935437 \n",
      "\n",
      "Time taken = 22.84145188331604  seconds\n",
      "\n",
      "======================== \n",
      "\n",
      "Epoch : 3 \n",
      "\n"
     ]
    },
    {
     "name": "stderr",
     "output_type": "stream",
     "text": [
      "100%|████████████████████████████████████████████████████████████████████████████████| 782/782 [00:16<00:00, 47.46it/s]\n"
     ]
    },
    {
     "name": "stdout",
     "output_type": "stream",
     "text": [
      "Accuracy val:  0.2547 \n",
      "\n",
      "Training loss = 2.440838352282247 \n",
      "\n",
      "Time taken = 22.2940411567688  seconds\n",
      "\n",
      "======================== \n",
      "\n",
      "Epoch : 4 \n",
      "\n"
     ]
    },
    {
     "name": "stderr",
     "output_type": "stream",
     "text": [
      "100%|████████████████████████████████████████████████████████████████████████████████| 782/782 [00:15<00:00, 50.01it/s]\n"
     ]
    },
    {
     "name": "stdout",
     "output_type": "stream",
     "text": [
      "Accuracy val:  0.265 \n",
      "\n",
      "Training loss = 2.400914064320009 \n",
      "\n",
      "Time taken = 21.326958417892456  seconds\n",
      "\n",
      "======================== \n",
      "\n",
      "Epoch : 5 \n",
      "\n"
     ]
    },
    {
     "name": "stderr",
     "output_type": "stream",
     "text": [
      "100%|████████████████████████████████████████████████████████████████████████████████| 782/782 [00:15<00:00, 50.67it/s]\n"
     ]
    },
    {
     "name": "stdout",
     "output_type": "stream",
     "text": [
      "Accuracy val:  0.2562 \n",
      "\n",
      "Training loss = 2.37381764583316 \n",
      "\n",
      "Time taken = 21.714455366134644  seconds\n",
      "\n",
      "======================== \n",
      "\n",
      "Epoch : 6 \n",
      "\n"
     ]
    },
    {
     "name": "stderr",
     "output_type": "stream",
     "text": [
      "100%|████████████████████████████████████████████████████████████████████████████████| 782/782 [00:16<00:00, 48.50it/s]\n"
     ]
    },
    {
     "name": "stdout",
     "output_type": "stream",
     "text": [
      "Accuracy val:  0.2579 \n",
      "\n",
      "Training loss = 2.3549657825422807 \n",
      "\n",
      "Time taken = 22.069932222366333  seconds\n",
      "\n",
      "======================== \n",
      "\n",
      "Epoch : 7 \n",
      "\n"
     ]
    },
    {
     "name": "stderr",
     "output_type": "stream",
     "text": [
      "100%|████████████████████████████████████████████████████████████████████████████████| 782/782 [00:16<00:00, 47.88it/s]\n"
     ]
    },
    {
     "name": "stdout",
     "output_type": "stream",
     "text": [
      "Accuracy val:  0.2647 \n",
      "\n",
      "Training loss = 2.3402195097131218 \n",
      "\n",
      "Time taken = 22.1882586479187  seconds\n",
      "\n",
      "======================== \n",
      "\n",
      "Epoch : 8 \n",
      "\n"
     ]
    },
    {
     "name": "stderr",
     "output_type": "stream",
     "text": [
      "100%|████████████████████████████████████████████████████████████████████████████████| 782/782 [00:15<00:00, 49.13it/s]\n"
     ]
    },
    {
     "name": "stdout",
     "output_type": "stream",
     "text": [
      "Accuracy val:  0.2724 \n",
      "\n",
      "Training loss = 2.3287647808895717 \n",
      "\n",
      "Time taken = 22.049435138702393  seconds\n",
      "\n",
      "======================== \n",
      "\n",
      "Epoch : 9 \n",
      "\n"
     ]
    },
    {
     "name": "stderr",
     "output_type": "stream",
     "text": [
      "100%|████████████████████████████████████████████████████████████████████████████████| 782/782 [00:15<00:00, 49.07it/s]\n"
     ]
    },
    {
     "name": "stdout",
     "output_type": "stream",
     "text": [
      "Accuracy val:  0.2642 \n",
      "\n",
      "Training loss = 2.319417031701138 \n",
      "\n",
      "Time taken = 22.039351224899292  seconds\n",
      "\n",
      "======================== \n",
      "\n"
     ]
    },
    {
     "data": {
      "image/png": "[encoded data removed]",
      "text/plain": [
       "<Figure size 1152x576 with 2 Axes>"
      ]
     },
     "metadata": {},
     "output_type": "display_data"
    }
   ],
   "source": [
    "MLP = NN(hidden_dims=(400,700), initialization='glorot', learning_rate=4, delta=2e-1, mini_batch=64, regularization=0.01)\n",
    "MLP.train(X_train, Y_train, X_val, Y_val, 10)"
   ]
  },
  {
   "cell_type": "code",
   "execution_count": 53,
   "metadata": {},
   "outputs": [
    {
     "name": "stdout",
     "output_type": "stream",
     "text": [
      "Epoch : 0 \n",
      "\n"
     ]
    },
    {
     "name": "stderr",
     "output_type": "stream",
     "text": [
      "100%|████████████████████████████████████████████████████████████████████████████████| 782/782 [00:16<00:00, 48.36it/s]\n"
     ]
    },
    {
     "name": "stdout",
     "output_type": "stream",
     "text": [
      "Accuracy val:  0.9373 \n",
      "\n",
      "Training loss = 0.23326586154208317 \n",
      "\n",
      "Time taken = 22.066731214523315  seconds\n",
      "\n",
      "======================== \n",
      "\n",
      "Epoch : 1 \n",
      "\n"
     ]
    },
    {
     "name": "stderr",
     "output_type": "stream",
     "text": [
      "100%|████████████████████████████████████████████████████████████████████████████████| 782/782 [00:15<00:00, 49.41it/s]\n"
     ]
    },
    {
     "name": "stdout",
     "output_type": "stream",
     "text": [
      "Accuracy val:  0.9235 \n",
      "\n",
      "Training loss = 0.27234534356233003 \n",
      "\n",
      "Time taken = 21.49147343635559  seconds\n",
      "\n",
      "======================== \n",
      "\n",
      "Epoch : 2 \n",
      "\n"
     ]
    },
    {
     "name": "stderr",
     "output_type": "stream",
     "text": [
      "100%|████████████████████████████████████████████████████████████████████████████████| 782/782 [00:15<00:00, 49.35it/s]\n"
     ]
    },
    {
     "name": "stdout",
     "output_type": "stream",
     "text": [
      "Accuracy val:  0.9629 \n",
      "\n",
      "Training loss = 0.11734187811709669 \n",
      "\n",
      "Time taken = 21.770358562469482  seconds\n",
      "\n",
      "======================== \n",
      "\n",
      "Epoch : 3 \n",
      "\n"
     ]
    },
    {
     "name": "stderr",
     "output_type": "stream",
     "text": [
      "100%|████████████████████████████████████████████████████████████████████████████████| 782/782 [00:15<00:00, 49.82it/s]\n"
     ]
    },
    {
     "name": "stdout",
     "output_type": "stream",
     "text": [
      "Accuracy val:  0.9684 \n",
      "\n",
      "Training loss = 0.09408926432595126 \n",
      "\n",
      "Time taken = 21.492872953414917  seconds\n",
      "\n",
      "======================== \n",
      "\n",
      "Epoch : 4 \n",
      "\n"
     ]
    },
    {
     "name": "stderr",
     "output_type": "stream",
     "text": [
      "100%|████████████████████████████████████████████████████████████████████████████████| 782/782 [00:15<00:00, 49.59it/s]\n"
     ]
    },
    {
     "name": "stdout",
     "output_type": "stream",
     "text": [
      "Accuracy val:  0.9696 \n",
      "\n",
      "Training loss = 0.08564704347409588 \n",
      "\n",
      "Time taken = 21.59556007385254  seconds\n",
      "\n",
      "======================== \n",
      "\n",
      "Epoch : 5 \n",
      "\n"
     ]
    },
    {
     "name": "stderr",
     "output_type": "stream",
     "text": [
      "100%|████████████████████████████████████████████████████████████████████████████████| 782/782 [00:15<00:00, 50.23it/s]\n"
     ]
    },
    {
     "name": "stdout",
     "output_type": "stream",
     "text": [
      "Accuracy val:  0.9709 \n",
      "\n",
      "Training loss = 0.07648026044638939 \n",
      "\n",
      "Time taken = 21.404848337173462  seconds\n",
      "\n",
      "======================== \n",
      "\n",
      "Epoch : 6 \n",
      "\n"
     ]
    },
    {
     "name": "stderr",
     "output_type": "stream",
     "text": [
      "100%|████████████████████████████████████████████████████████████████████████████████| 782/782 [00:15<00:00, 49.13it/s]\n"
     ]
    },
    {
     "name": "stdout",
     "output_type": "stream",
     "text": [
      "Accuracy val:  0.9719 \n",
      "\n",
      "Training loss = 0.07140302023953506 \n",
      "\n",
      "Time taken = 22.01053500175476  seconds\n",
      "\n",
      "======================== \n",
      "\n",
      "Epoch : 7 \n",
      "\n"
     ]
    },
    {
     "name": "stderr",
     "output_type": "stream",
     "text": [
      "100%|████████████████████████████████████████████████████████████████████████████████| 782/782 [00:16<00:00, 46.44it/s]\n"
     ]
    },
    {
     "name": "stdout",
     "output_type": "stream",
     "text": [
      "Accuracy val:  0.9718 \n",
      "\n",
      "Training loss = 0.06482430253447917 \n",
      "\n",
      "Time taken = 22.325568675994873  seconds\n",
      "\n",
      "======================== \n",
      "\n",
      "Epoch : 8 \n",
      "\n"
     ]
    },
    {
     "name": "stderr",
     "output_type": "stream",
     "text": [
      "100%|████████████████████████████████████████████████████████████████████████████████| 782/782 [00:16<00:00, 47.50it/s]\n"
     ]
    },
    {
     "name": "stdout",
     "output_type": "stream",
     "text": [
      "Accuracy val:  0.9721 \n",
      "\n",
      "Training loss = 0.06128841833626817 \n",
      "\n",
      "Time taken = 22.547621965408325  seconds\n",
      "\n",
      "======================== \n",
      "\n",
      "Epoch : 9 \n",
      "\n"
     ]
    },
    {
     "name": "stderr",
     "output_type": "stream",
     "text": [
      "100%|████████████████████████████████████████████████████████████████████████████████| 782/782 [00:16<00:00, 48.39it/s]\n"
     ]
    },
    {
     "name": "stdout",
     "output_type": "stream",
     "text": [
      "Accuracy val:  0.9717 \n",
      "\n",
      "Training loss = 0.058868565425240015 \n",
      "\n",
      "Time taken = 21.77925705909729  seconds\n",
      "\n",
      "======================== \n",
      "\n"
     ]
    },
    {
     "data": {
      "image/png": "[encoded data removed]",
      "text/plain": [
       "<Figure size 1152x576 with 2 Axes>"
      ]
     },
     "metadata": {},
     "output_type": "display_data"
    }
   ],
   "source": [
    "MLP = NN(hidden_dims=(400,700), initialization='glorot', learning_rate=4, delta=2e-3, mini_batch=64, regularization=0)\n",
    "MLP.train(X_train, Y_train, X_val, Y_val, 10)"
   ]
  },
  {
   "cell_type": "markdown",
   "metadata": {},
   "source": [
    "## Validate Gradients using Finite Difference:"
   ]
  },
  {
   "cell_type": "code",
   "execution_count": 58,
   "metadata": {},
   "outputs": [
    {
     "data": {
      "image/png": "[encoded data removed]",
      "text/plain": [
       "<Figure size 576x576 with 1 Axes>"
      ]
     },
     "metadata": {},
     "output_type": "display_data"
    }
   ],
   "source": [
    "MLP.finite_difference(X_train[0,:], Y_train[0,:])"
   ]
  }
 ],
 "metadata": {
  "kernelspec": {
   "display_name": "Python 3",
   "language": "python",
   "name": "python3"
  },
  "language_info": {
   "codemirror_mode": {
    "name": "ipython",
    "version": 3
   },
   "file_extension": ".py",
   "mimetype": "text/x-python",
   "name": "python",
   "nbconvert_exporter": "python",
   "pygments_lexer": "ipython3",
   "version": "3.6.5"
  }
 },
 "nbformat": 4,
 "nbformat_minor": 2
}
